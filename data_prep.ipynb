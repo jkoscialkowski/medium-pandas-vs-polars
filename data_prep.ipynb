{
 "cells": [
  {
   "cell_type": "code",
   "execution_count": 1,
   "id": "30230ec0-c90d-4377-b27d-283e6dda14f8",
   "metadata": {
    "ExecuteTime": {
     "end_time": "2023-11-05T17:38:03.465318Z",
     "start_time": "2023-11-05T17:37:59.359820Z"
    }
   },
   "outputs": [],
   "source": [
    "import numpy as np\n",
    "import matplotlib.pyplot as plt\n",
    "import pandas as pd\n",
    "import polars as pl\n",
    "import re\n",
    "\n",
    "from collections import Counter\n",
    "from ydata_profiling import ProfileReport\n",
    "from utils import get_non_castable, cleanup_and_cast, replace_outliers, fill_nas_from_other_customer_records\n",
    "from constants import *"
   ]
  },
  {
   "cell_type": "code",
   "execution_count": 2,
   "id": "1d98dccc-6b47-475f-af95-ed72d919732b",
   "metadata": {},
   "outputs": [],
   "source": [
    "%load_ext autoreload\n",
    "%autoreload 2"
   ]
  },
  {
   "cell_type": "markdown",
   "id": "f2861638ea1327af",
   "metadata": {
    "collapsed": false,
    "jupyter": {
     "outputs_hidden": false
    }
   },
   "source": [
    "# Pandas"
   ]
  },
  {
   "cell_type": "markdown",
   "id": "48d92e03-fe98-4307-975e-8f4c1d909c3b",
   "metadata": {},
   "source": [
    "## Read data"
   ]
  },
  {
   "cell_type": "code",
   "execution_count": 3,
   "id": "d648ee11-89c0-414f-a644-1db227ab245b",
   "metadata": {},
   "outputs": [],
   "source": [
    "pd.set_option(\"display.max_columns\", None)\n",
    "pd.set_option(\"display.max_rows\", 100)"
   ]
  },
  {
   "cell_type": "code",
   "execution_count": 4,
   "id": "363b4ea4-c03f-4df9-b1f7-00641ddad8f8",
   "metadata": {},
   "outputs": [
    {
     "name": "stderr",
     "output_type": "stream",
     "text": [
      "/var/folders/rr/2my7n2l5511dqbvltxz0qyzh0000gq/T/ipykernel_48047/768096524.py:1: DtypeWarning: Columns (26) have mixed types. Specify dtype option on import or set low_memory=False.\n",
      "  pd_df_train = pd.read_csv(\"train.csv\")\n"
     ]
    }
   ],
   "source": [
    "pd_df_train = pd.read_csv(\"train.csv\")"
   ]
  },
  {
   "cell_type": "code",
   "execution_count": 5,
   "id": "bf94583b-c9a7-42c5-ba18-f56cad17dace",
   "metadata": {},
   "outputs": [
    {
     "data": {
      "text/plain": [
       "'Monthly_Balance'"
      ]
     },
     "execution_count": 5,
     "metadata": {},
     "output_type": "execute_result"
    }
   ],
   "source": [
    "pd_df_train.columns[26]"
   ]
  },
  {
   "cell_type": "code",
   "execution_count": 6,
   "id": "df6fb830-9f87-4720-afdd-17838e0dd8fc",
   "metadata": {},
   "outputs": [
    {
     "data": {
      "text/plain": [
       "['__-333333333333333333333333333__',\n",
       " '__-333333333333333333333333333__',\n",
       " '__-333333333333333333333333333__',\n",
       " '__-333333333333333333333333333__',\n",
       " '__-333333333333333333333333333__',\n",
       " '__-333333333333333333333333333__',\n",
       " '__-333333333333333333333333333__',\n",
       " '__-333333333333333333333333333__',\n",
       " '__-333333333333333333333333333__']"
      ]
     },
     "execution_count": 6,
     "metadata": {},
     "output_type": "execute_result"
    }
   ],
   "source": [
    "get_non_castable(pd_df_train, \"Monthly_Balance\", float)"
   ]
  },
  {
   "cell_type": "code",
   "execution_count": 7,
   "id": "9f79098a-9545-4611-9851-8366327c20a7",
   "metadata": {},
   "outputs": [],
   "source": [
    "NA_VALUES = {\"Monthly_Balance\": \"__-333333333333333333333333333__\"}\n",
    "pd_df_train = pd.read_csv(\"train.csv\", na_values=NA_VALUES)"
   ]
  },
  {
   "cell_type": "markdown",
   "id": "e7dbb39b-1c20-4058-8a5f-e6ff8b830f8e",
   "metadata": {},
   "source": [
    "## Check validity"
   ]
  },
  {
   "cell_type": "code",
   "execution_count": 8,
   "id": "49d11b97-071c-40e6-8b52-f73f2701b1d6",
   "metadata": {},
   "outputs": [
    {
     "data": {
      "text/plain": [
       "ID                           object\n",
       "Customer_ID                  object\n",
       "Month                        object\n",
       "Name                         object\n",
       "Age                          object\n",
       "SSN                          object\n",
       "Occupation                   object\n",
       "Annual_Income                object\n",
       "Monthly_Inhand_Salary       float64\n",
       "Num_Bank_Accounts             int64\n",
       "Num_Credit_Card               int64\n",
       "Interest_Rate                 int64\n",
       "Num_of_Loan                  object\n",
       "Type_of_Loan                 object\n",
       "Delay_from_due_date           int64\n",
       "Num_of_Delayed_Payment       object\n",
       "Changed_Credit_Limit         object\n",
       "Num_Credit_Inquiries        float64\n",
       "Credit_Mix                   object\n",
       "Outstanding_Debt             object\n",
       "Credit_Utilization_Ratio    float64\n",
       "Credit_History_Age           object\n",
       "Payment_of_Min_Amount        object\n",
       "Total_EMI_per_month         float64\n",
       "Amount_invested_monthly      object\n",
       "Payment_Behaviour            object\n",
       "Monthly_Balance             float64\n",
       "Credit_Score                 object\n",
       "dtype: object"
      ]
     },
     "execution_count": 8,
     "metadata": {},
     "output_type": "execute_result"
    }
   ],
   "source": [
    "pd_df_train.dtypes"
   ]
  },
  {
   "cell_type": "code",
   "execution_count": 9,
   "id": "78915462-b8d8-4397-8926-21ebe94b507c",
   "metadata": {},
   "outputs": [
    {
     "name": "stdout",
     "output_type": "stream",
     "text": [
      "ID\n",
      "Examples of non-castable values: ['0x1602', '0x1603', '0x1604', '0x1605', '0x1606', '0x1607', '0x1608', '0x1609', '0x160e', '0x160f']\n",
      "Unique values (potentially trimmed): ['0x1602' '0x1603' '0x1604' '0x1605' '0x1606' '0x1607' '0x1608' '0x1609'\n",
      " '0x160e' '0x160f']\n",
      "\n",
      "Customer_ID\n",
      "Examples of non-castable values: ['CUS_0xd40', 'CUS_0xd40', 'CUS_0xd40', 'CUS_0xd40', 'CUS_0xd40', 'CUS_0xd40', 'CUS_0xd40', 'CUS_0xd40', 'CUS_0x21b1', 'CUS_0x21b1']\n",
      "Unique values (potentially trimmed): ['CUS_0xd40' 'CUS_0x21b1' 'CUS_0x2dbc' 'CUS_0xb891' 'CUS_0x1cdb'\n",
      " 'CUS_0x95ee' 'CUS_0x284a' 'CUS_0x5407' 'CUS_0x4157' 'CUS_0xba08']\n",
      "\n",
      "Month\n",
      "Examples of non-castable values: ['January', 'February', 'March', 'April', 'May', 'June', 'July', 'August', 'January', 'February']\n",
      "Unique values (potentially trimmed): ['January' 'February' 'March' 'April' 'May' 'June' 'July' 'August']\n",
      "\n",
      "Name\n",
      "Examples of non-castable values: ['Aaron Maashoh', 'Aaron Maashoh', 'Aaron Maashoh', 'Aaron Maashoh', 'Aaron Maashoh', 'Aaron Maashoh', 'Aaron Maashoh', 'Rick Rothackerj', 'Rick Rothackerj', 'Rick Rothackerj']\n",
      "Unique values (potentially trimmed): ['Aaron Maashoh' nan 'Rick Rothackerj' 'Langep' 'Jasond' 'Deepaa' 'Np'\n",
      " 'Nadiaq' 'Annk' 'Charlie Zhur']\n",
      "\n",
      "Age\n",
      "Examples of non-castable values: ['28_', '34_', '30_', '24_', '33_', '35_', '30_', '31_', '40_', '37_']\n",
      "Unique values (potentially trimmed): ['23' '-500' '28_' '28' '34' '54' '55' '21' '31' '33']\n",
      "\n",
      "SSN\n",
      "Examples of non-castable values: ['821-00-0265', '821-00-0265', '821-00-0265', '821-00-0265', '821-00-0265', '821-00-0265', '821-00-0265', '#F%$D@*&8', '004-07-5839', '004-07-5839']\n",
      "Unique values (potentially trimmed): ['821-00-0265' '#F%$D@*&8' '004-07-5839' '486-85-3974' '072-31-6145'\n",
      " '615-06-7821' '612-70-8987' '411-51-0676' '500-92-6408' '070-19-1622']\n",
      "\n",
      "Occupation\n",
      "Examples of non-castable values: ['Scientist', 'Scientist', 'Scientist', 'Scientist', 'Scientist', 'Scientist', 'Scientist', 'Scientist', '_______', 'Teacher']\n",
      "Unique values (potentially trimmed): ['Scientist' '_______' 'Teacher' 'Engineer' 'Entrepreneur' 'Developer'\n",
      " 'Lawyer' 'Media_Manager' 'Doctor' 'Journalist']\n",
      "\n",
      "Annual_Income\n",
      "Examples of non-castable values: ['34847.84_', '30689.89_', '35547.71_', '34081.38_', '114838.41_', '88640.24_', '54392.16_', '8701.545_', '8701.545_', '25546.26_']\n",
      "Unique values (potentially trimmed): ['19114.12' '34847.84' '34847.84_' '143162.64' '30689.89' '30689.89_'\n",
      " '35547.71_' '35547.71' '73928.46' '131313.4']\n",
      "\n",
      "Monthly_Inhand_Salary\n",
      "Examples of non-castable values: []\n",
      "Unique values (potentially trimmed): [ 1824.84333333            nan  3037.98666667 12187.22\n",
      "  2612.49083333  2853.30916667  5988.705      11242.78333333\n",
      " 10469.20775939  2611.115     ]\n",
      "\n",
      "Num_Bank_Accounts\n",
      "Examples of non-castable values: []\n",
      "Unique values (potentially trimmed): [3 2 1 7 4 0 8 5 6 9]\n",
      "\n",
      "Num_Credit_Card\n",
      "Examples of non-castable values: []\n",
      "Unique values (potentially trimmed): [   4 1385    5 1288    1    7    6 1029  488    8]\n",
      "\n",
      "Interest_Rate\n",
      "Examples of non-castable values: []\n",
      "Unique values (potentially trimmed): [   3    6    8    4    5 5318   15    7   12   20]\n",
      "\n",
      "Num_of_Loan\n",
      "Examples of non-castable values: ['0_', '3_', '3_', '2_', '5_', '2_', '0_', '0_', '5_', '2_']\n",
      "Unique values (potentially trimmed): ['4' '1' '3' '967' '-100' '0' '0_' '2' '3_' '2_']\n",
      "\n",
      "Type_of_Loan\n",
      "Examples of non-castable values: ['Auto Loan, Credit-Builder Loan, Personal Loan, and Home Equity Loan', 'Auto Loan, Credit-Builder Loan, Personal Loan, and Home Equity Loan', 'Auto Loan, Credit-Builder Loan, Personal Loan, and Home Equity Loan', 'Auto Loan, Credit-Builder Loan, Personal Loan, and Home Equity Loan', 'Auto Loan, Credit-Builder Loan, Personal Loan, and Home Equity Loan', 'Auto Loan, Credit-Builder Loan, Personal Loan, and Home Equity Loan', 'Auto Loan, Credit-Builder Loan, Personal Loan, and Home Equity Loan', 'Auto Loan, Credit-Builder Loan, Personal Loan, and Home Equity Loan', 'Credit-Builder Loan', 'Credit-Builder Loan']\n",
      "Unique values (potentially trimmed): ['Auto Loan, Credit-Builder Loan, Personal Loan, and Home Equity Loan'\n",
      " 'Credit-Builder Loan' 'Auto Loan, Auto Loan, and Not Specified'\n",
      " 'Not Specified' nan 'Credit-Builder Loan, and Mortgage Loan'\n",
      " 'Not Specified, Auto Loan, and Student Loan'\n",
      " 'Personal Loan, Debt Consolidation Loan, and Auto Loan'\n",
      " 'Not Specified, and Payday Loan'\n",
      " 'Credit-Builder Loan, Personal Loan, and Auto Loan']\n",
      "\n",
      "Delay_from_due_date\n",
      "Examples of non-castable values: []\n",
      "Unique values (potentially trimmed): [ 3 -1  5  6  8  7 13 10  0  4]\n",
      "\n",
      "Num_of_Delayed_Payment\n",
      "Examples of non-castable values: ['8_', '3_', '3_', '2_', '13_', '14_', '12_', '8_', '22_', '14_']\n",
      "Unique values (potentially trimmed): ['7' nan '4' '8_' '6' '1' '-1' '3_' '0' '8']\n",
      "\n",
      "Changed_Credit_Limit\n",
      "Examples of non-castable values: ['_', '_', '_', '_', '_', '_', '_', '_', '_', '_']\n",
      "Unique values (potentially trimmed): ['11.27' '_' '6.27' '9.27' '5.42' '7.42' '6.42' '7.1' '11.1' '9.1']\n",
      "\n",
      "Num_Credit_Inquiries\n",
      "Examples of non-castable values: []\n",
      "Unique values (potentially trimmed): [ 4.  2.  3. nan  5.  9.  8.  7.  6.  0.]\n",
      "\n",
      "Credit_Mix\n",
      "Examples of non-castable values: ['_', 'Good', 'Good', 'Good', 'Good', 'Good', 'Good', 'Good', 'Good', 'Good']\n",
      "Unique values (potentially trimmed): ['_' 'Good' 'Standard' 'Bad']\n",
      "\n",
      "Outstanding_Debt\n",
      "Examples of non-castable values: ['1328.93_', '1283.37_', '2797.17_', '3818.57_', '343.84_', '363.51_', '404.51_', '1755.81_', '2593.44_', '89.62_']\n",
      "Unique values (potentially trimmed): ['809.98' '605.03' '1303.01' '632.46' '943.86' '548.2' '352.16' '1704.18'\n",
      " '1377.74' '421.43']\n",
      "\n",
      "Credit_Utilization_Ratio\n",
      "Examples of non-castable values: []\n",
      "Unique values (potentially trimmed): [26.82261962 31.94496006 28.60935202 31.37786187 24.79734691 27.26225871\n",
      " 22.53759303 23.9337948  24.46403064 38.55084843]\n",
      "\n",
      "Credit_History_Age\n",
      "Examples of non-castable values: ['22 Years and 1 Months', '22 Years and 3 Months', '22 Years and 4 Months', '22 Years and 5 Months', '22 Years and 6 Months', '22 Years and 7 Months', '26 Years and 7 Months', '26 Years and 8 Months', '26 Years and 9 Months', '26 Years and 10 Months']\n",
      "Unique values (potentially trimmed): ['22 Years and 1 Months' nan '22 Years and 3 Months'\n",
      " '22 Years and 4 Months' '22 Years and 5 Months' '22 Years and 6 Months'\n",
      " '22 Years and 7 Months' '26 Years and 7 Months' '26 Years and 8 Months'\n",
      " '26 Years and 9 Months']\n",
      "\n",
      "Payment_of_Min_Amount\n",
      "Examples of non-castable values: ['No', 'No', 'No', 'No', 'No', 'No', 'No', 'No', 'No', 'No']\n",
      "Unique values (potentially trimmed): ['No' 'NM' 'Yes']\n",
      "\n",
      "Total_EMI_per_month\n",
      "Examples of non-castable values: []\n",
      "Unique values (potentially trimmed): [4.95749492e+01 1.88162146e+01 2.46992319e+02 1.64154517e+01\n",
      " 0.00000000e+00 1.50150000e+04 1.55150000e+04 1.37644605e+02\n",
      " 9.11220179e+02 2.38340000e+04]\n",
      "\n",
      "Amount_invested_monthly\n",
      "Examples of non-castable values: ['__10000__', '__10000__', '__10000__', '__10000__', '__10000__', '__10000__', '__10000__', '__10000__', '__10000__', '__10000__']\n",
      "Unique values (potentially trimmed): ['80.41529543900253' '118.28022162236736' '81.699521264648'\n",
      " '199.4580743910713' '41.420153086217326' '62.430172331195294'\n",
      " '178.3440674122349' '24.785216509052056' '104.291825168246'\n",
      " '40.39123782853101']\n",
      "\n",
      "Payment_Behaviour\n",
      "Examples of non-castable values: ['High_spent_Small_value_payments', 'Low_spent_Large_value_payments', 'Low_spent_Medium_value_payments', 'Low_spent_Small_value_payments', 'High_spent_Medium_value_payments', '!@9#%8', 'Low_spent_Small_value_payments', 'High_spent_Medium_value_payments', 'Low_spent_Small_value_payments', 'High_spent_Large_value_payments']\n",
      "Unique values (potentially trimmed): ['High_spent_Small_value_payments' 'Low_spent_Large_value_payments'\n",
      " 'Low_spent_Medium_value_payments' 'Low_spent_Small_value_payments'\n",
      " 'High_spent_Medium_value_payments' '!@9#%8'\n",
      " 'High_spent_Large_value_payments']\n",
      "\n",
      "Monthly_Balance\n",
      "Examples of non-castable values: []\n",
      "Unique values (potentially trimmed): [312.49408868 284.6291625  331.20986285 223.45130973 341.48923103\n",
      " 340.47921179 244.56531671 358.12416761 470.69062693 484.59121427]\n",
      "\n",
      "Credit_Score\n",
      "Examples of non-castable values: ['Good', 'Good', 'Good', 'Good', 'Good', 'Good', 'Good', 'Standard', 'Standard', 'Good']\n",
      "Unique values (potentially trimmed): ['Good' 'Standard' 'Poor']\n",
      "\n"
     ]
    }
   ],
   "source": [
    "for var in pd_df_train.columns:\n",
    "    print(var)\n",
    "    print(\"Examples of non-castable values: {}\".format(get_non_castable(pd_df_train, var, float)[:10]))\n",
    "    print(\"Unique values (potentially trimmed): {}\".format(pd_df_train[var].unique()[:10]))\n",
    "    print(\"\")"
   ]
  },
  {
   "cell_type": "markdown",
   "id": "4daa47d3-b442-458a-b93b-cf612a8cdf65",
   "metadata": {},
   "source": [
    "### Type_of_Loan"
   ]
  },
  {
   "cell_type": "code",
   "execution_count": 10,
   "id": "04fb2925-53d9-4b75-b07b-b5c1c1d3e69a",
   "metadata": {},
   "outputs": [
    {
     "data": {
      "text/plain": [
       "Counter({'Payday Loan': 40568,\n",
       "         'Credit-Builder Loan': 40440,\n",
       "         'Not Specified': 39616,\n",
       "         'Home Equity Loan': 39104,\n",
       "         'Student Loan': 38968,\n",
       "         'Mortgage Loan': 38936,\n",
       "         'Personal Loan': 38888,\n",
       "         'Debt Consolidation Loan': 38776,\n",
       "         'Auto Loan': 37992})"
      ]
     },
     "execution_count": 10,
     "metadata": {},
     "output_type": "execute_result"
    }
   ],
   "source": [
    "split = pd_df_train.Type_of_Loan[~pd_df_train.Type_of_Loan.isna()].apply(lambda x: re.split(r\", and |, \", x))\n",
    "Counter([x for l in split.to_list() for x in l])"
   ]
  },
  {
   "cell_type": "markdown",
   "id": "ebbbf83f-7397-47df-91bc-f3372a03e8ab",
   "metadata": {},
   "source": [
    "TODO: split, determine unique and expand into categoricals"
   ]
  },
  {
   "cell_type": "markdown",
   "id": "8c91c2a9-a7fe-4c13-b384-8dd0e6378181",
   "metadata": {},
   "source": [
    "## Clean"
   ]
  },
  {
   "cell_type": "markdown",
   "id": "0654e77f-5727-487d-a9db-4cac9b3ec8a1",
   "metadata": {},
   "source": [
    "### Replace with NaNs"
   ]
  },
  {
   "cell_type": "code",
   "execution_count": 18,
   "id": "468bd1e8-b23c-4972-ab5e-c448a5119b22",
   "metadata": {},
   "outputs": [],
   "source": [
    "pd_df_train_clean = cleanup_and_cast(pd_df_train)"
   ]
  },
  {
   "cell_type": "markdown",
   "id": "b640dc94-301a-42d3-8fb8-84b1e56a8fb0",
   "metadata": {},
   "source": [
    "### Initial EDA"
   ]
  },
  {
   "cell_type": "code",
   "execution_count": 39,
   "id": "f19ecc7c-9b03-4f4e-9083-de840f2e4e22",
   "metadata": {},
   "outputs": [],
   "source": [
    "pr = ProfileReport(pd_df_train_clean)"
   ]
  },
  {
   "cell_type": "code",
   "execution_count": 44,
   "id": "10d4e9a0-9737-46c0-9942-42b7d43851b5",
   "metadata": {},
   "outputs": [
    {
     "data": {
      "application/vnd.jupyter.widget-view+json": {
       "model_id": "1ab191ed9d2049b18c7ce8a5b61e9087",
       "version_major": 2,
       "version_minor": 0
      },
      "text/plain": [
       "Export report to file:   0%|          | 0/1 [00:00<?, ?it/s]"
      ]
     },
     "metadata": {},
     "output_type": "display_data"
    }
   ],
   "source": [
    "pr.to_file(\"eda.html\")"
   ]
  },
  {
   "cell_type": "markdown",
   "id": "3ae3e26f-2c27-4a48-a36a-49a2eaf70bb4",
   "metadata": {},
   "source": [
    "### Clean up outliers"
   ]
  },
  {
   "cell_type": "code",
   "execution_count": 19,
   "id": "66c551c3-bf30-48fb-af62-aa1d5d36aa69",
   "metadata": {},
   "outputs": [],
   "source": [
    "pd_df_train_clean = replace_outliers(pd_df_train_clean)"
   ]
  },
  {
   "cell_type": "code",
   "execution_count": 13,
   "id": "e7d9e5ec-7dd1-4e9a-8c69-9372e7082479",
   "metadata": {},
   "outputs": [
    {
     "name": "stdout",
     "output_type": "stream",
     "text": [
      "Age\n",
      "count    97219.000000\n",
      "mean        33.320009\n",
      "std         10.769558\n",
      "min         14.000000\n",
      "25%         24.000000\n",
      "50%         33.000000\n",
      "75%         42.000000\n",
      "max         56.000000\n",
      "Name: Age, dtype: float64\n",
      "\n",
      "Annual_Income\n",
      "count     99001.000000\n",
      "mean      50497.576053\n",
      "std       38296.622971\n",
      "min        7005.930000\n",
      "25%       19344.270000\n",
      "50%       36993.940000\n",
      "75%       71676.000000\n",
      "max      179987.280000\n",
      "Name: Annual_Income, dtype: float64\n",
      "\n",
      "Num_Bank_Accounts\n",
      "count    98685.000000\n",
      "mean         5.367624\n",
      "std          2.593839\n",
      "min         -1.000000\n",
      "25%          3.000000\n",
      "50%          5.000000\n",
      "75%          7.000000\n",
      "max         11.000000\n",
      "Name: Num_Bank_Accounts, dtype: float64\n",
      "\n",
      "Num_Credit_Card\n",
      "count    97729.000000\n",
      "mean         5.533322\n",
      "std          2.067703\n",
      "min          0.000000\n",
      "25%          4.000000\n",
      "50%          5.000000\n",
      "75%          7.000000\n",
      "max         11.000000\n",
      "Name: Num_Credit_Card, dtype: float64\n",
      "\n",
      "Interest_Rate\n",
      "count    97966.000000\n",
      "mean        14.531603\n",
      "std          8.739748\n",
      "min          1.000000\n",
      "25%          7.000000\n",
      "50%         13.000000\n",
      "75%         20.000000\n",
      "max         34.000000\n",
      "Name: Interest_Rate, dtype: float64\n",
      "\n",
      "Num_of_Loan\n",
      "count    95652.000000\n",
      "mean         3.533758\n",
      "std          2.447308\n",
      "min          0.000000\n",
      "25%          2.000000\n",
      "50%          3.000000\n",
      "75%          5.000000\n",
      "max          9.000000\n",
      "Name: Num_of_Loan, dtype: float64\n",
      "\n",
      "Num_of_Delayed_Payment\n",
      "count    71357.000000\n",
      "mean        13.310565\n",
      "std          6.193767\n",
      "min         -2.000000\n",
      "25%          9.000000\n",
      "50%         14.000000\n",
      "75%         18.000000\n",
      "max         27.000000\n",
      "Name: Num_of_Delayed_Payment, dtype: float64\n",
      "\n",
      "Num_Credit_Inquiries\n",
      "count    82226.000000\n",
      "mean         5.620485\n",
      "std          3.794026\n",
      "min          0.000000\n",
      "25%          3.000000\n",
      "50%          5.000000\n",
      "75%          8.000000\n",
      "max         17.000000\n",
      "Name: Num_Credit_Inquiries, dtype: float64\n",
      "\n",
      "Total_EMI_per_month\n",
      "count    94596.000000\n",
      "mean       103.459203\n",
      "std        119.519725\n",
      "min          0.000000\n",
      "25%         28.882213\n",
      "50%         65.556838\n",
      "75%        143.808822\n",
      "max       1779.103254\n",
      "Name: Total_EMI_per_month, dtype: float64\n",
      "\n"
     ]
    }
   ],
   "source": [
    "for var in VARS_WITH_OUTLIERS_TOLERANCES.keys():\n",
    "    print(var)\n",
    "    desc = pd_df_train_clean[var].describe()\n",
    "    print(desc)\n",
    "    print(\"\")"
   ]
  },
  {
   "cell_type": "markdown",
   "id": "eadcd985-8ff0-4162-a813-9cc0af27e720",
   "metadata": {},
   "source": [
    "### EDA after removing outliers"
   ]
  },
  {
   "cell_type": "code",
   "execution_count": 82,
   "id": "8625c0d8-7f3c-46e6-9593-af51b34cc706",
   "metadata": {},
   "outputs": [
    {
     "data": {
      "application/vnd.jupyter.widget-view+json": {
       "model_id": "b35d238ce1244177850b24fc48e944e2",
       "version_major": 2,
       "version_minor": 0
      },
      "text/plain": [
       "Summarize dataset:   0%|          | 0/5 [00:00<?, ?it/s]"
      ]
     },
     "metadata": {},
     "output_type": "display_data"
    },
    {
     "data": {
      "application/vnd.jupyter.widget-view+json": {
       "model_id": "522a5cd1782c4961b6f6ff2bb2bd0b48",
       "version_major": 2,
       "version_minor": 0
      },
      "text/plain": [
       "Generate report structure:   0%|          | 0/1 [00:00<?, ?it/s]"
      ]
     },
     "metadata": {},
     "output_type": "display_data"
    },
    {
     "data": {
      "application/vnd.jupyter.widget-view+json": {
       "model_id": "96aae40b0fd64e0eb9f4b59aae98ca72",
       "version_major": 2,
       "version_minor": 0
      },
      "text/plain": [
       "Render HTML:   0%|          | 0/1 [00:00<?, ?it/s]"
      ]
     },
     "metadata": {},
     "output_type": "display_data"
    },
    {
     "data": {
      "application/vnd.jupyter.widget-view+json": {
       "model_id": "e6ac3e039d6c4afd9a3d2b7bddc1e445",
       "version_major": 2,
       "version_minor": 0
      },
      "text/plain": [
       "Export report to file:   0%|          | 0/1 [00:00<?, ?it/s]"
      ]
     },
     "metadata": {},
     "output_type": "display_data"
    }
   ],
   "source": [
    "pr_no_outliers = ProfileReport(pd_df_train_clean)\n",
    "pr_no_outliers.to_file(\"eda_no_outliers.html\")"
   ]
  },
  {
   "cell_type": "markdown",
   "id": "faac1c21-bf9a-4c22-af7f-27a2e10a99da",
   "metadata": {},
   "source": [
    "### Fill NaNs"
   ]
  },
  {
   "cell_type": "code",
   "execution_count": 14,
   "id": "a6e1e2e3-d714-4c60-b8fc-bce330b812da",
   "metadata": {},
   "outputs": [
    {
     "data": {
      "text/plain": [
       "ID                              0\n",
       "Customer_ID                     0\n",
       "Month                           0\n",
       "Name                         9985\n",
       "Age                          2781\n",
       "SSN                             0\n",
       "Occupation                   7062\n",
       "Annual_Income                 999\n",
       "Monthly_Inhand_Salary       15002\n",
       "Num_Bank_Accounts            1315\n",
       "Num_Credit_Card              2271\n",
       "Interest_Rate                2034\n",
       "Num_of_Loan                  4348\n",
       "Type_of_Loan                    0\n",
       "Delay_from_due_date             0\n",
       "Num_of_Delayed_Payment      28643\n",
       "Changed_Credit_Limit         2091\n",
       "Num_Credit_Inquiries        17774\n",
       "Credit_Mix                  20195\n",
       "Outstanding_Debt                0\n",
       "Credit_Utilization_Ratio        0\n",
       "Credit_History_Age           9030\n",
       "Payment_of_Min_Amount       12007\n",
       "Total_EMI_per_month          5404\n",
       "Amount_invested_monthly      8784\n",
       "Payment_Behaviour               0\n",
       "Monthly_Balance              1209\n",
       "Credit_Score                    0\n",
       "dtype: int64"
      ]
     },
     "execution_count": 14,
     "metadata": {},
     "output_type": "execute_result"
    }
   ],
   "source": [
    "pd_df_train_clean.apply(lambda x: x.isna().sum(), axis=0)"
   ]
  },
  {
   "cell_type": "code",
   "execution_count": 21,
   "id": "218f487a-fe6f-4e00-9486-c04b9e94f7b3",
   "metadata": {},
   "outputs": [],
   "source": [
    "pd_df_train_clean = fill_nas_from_other_customer_records(pd_df_train_clean)"
   ]
  },
  {
   "cell_type": "code",
   "execution_count": 35,
   "id": "2670408b-9f74-47d0-862d-2c57275a5e2b",
   "metadata": {},
   "outputs": [
    {
     "data": {
      "text/plain": [
       "ID                              0\n",
       "Customer_ID                     0\n",
       "Month                           0\n",
       "Name                            0\n",
       "Age                             0\n",
       "SSN                             0\n",
       "Occupation                      0\n",
       "Annual_Income                   0\n",
       "Monthly_Inhand_Salary           0\n",
       "Num_Bank_Accounts               0\n",
       "Num_Credit_Card              2271\n",
       "Interest_Rate                2034\n",
       "Num_of_Loan                  4348\n",
       "Type_of_Loan                    0\n",
       "Delay_from_due_date             0\n",
       "Num_of_Delayed_Payment      28643\n",
       "Changed_Credit_Limit         2091\n",
       "Num_Credit_Inquiries        17774\n",
       "Credit_Mix                      0\n",
       "Outstanding_Debt                0\n",
       "Credit_Utilization_Ratio        0\n",
       "Credit_History_Age              0\n",
       "Payment_of_Min_Amount       12007\n",
       "Total_EMI_per_month          5404\n",
       "Amount_invested_monthly      8784\n",
       "Payment_Behaviour            7600\n",
       "Monthly_Balance              1209\n",
       "Credit_Score                    0\n",
       "dtype: int64"
      ]
     },
     "execution_count": 35,
     "metadata": {},
     "output_type": "execute_result"
    }
   ],
   "source": [
    "pd_df_train_clean.apply(lambda x: x.isna().sum(), axis=0)"
   ]
  },
  {
   "cell_type": "markdown",
   "id": "7c968488-820e-415d-a6e5-77cd8633dd87",
   "metadata": {},
   "source": [
    "# Read data - Polars"
   ]
  },
  {
   "cell_type": "code",
   "execution_count": 41,
   "id": "2c4e45819f588179",
   "metadata": {
    "ExecuteTime": {
     "end_time": "2023-11-05T17:39:54.503699Z",
     "start_time": "2023-11-05T17:39:54.464859Z"
    },
    "collapsed": false,
    "jupyter": {
     "outputs_hidden": false
    }
   },
   "outputs": [
    {
     "ename": "ComputeError",
     "evalue": "Could not parse `__-333333333333333333333333333__` as dtype `f64` at column 'Monthly_Balance' (column number 27).\nThe current offset in the file is 23442390 bytes.\n\nYou might want to try:\n- increasing `infer_schema_length` (e.g. `infer_schema_length=10000`),\n- specifying correct dtype with the `dtypes` argument\n- setting `ignore_errors` to `True`,\n- adding `__-333333333333333333333333333__` to the `null_values` list.",
     "output_type": "error",
     "traceback": [
      "\u001b[0;31m---------------------------------------------------------------------------\u001b[0m",
      "\u001b[0;31mComputeError\u001b[0m                              Traceback (most recent call last)",
      "\u001b[0;32m/var/folders/rr/2my7n2l5511dqbvltxz0qyzh0000gq/T/ipykernel_68819/1251475168.py\u001b[0m in \u001b[0;36m?\u001b[0;34m()\u001b[0m\n\u001b[0;32m----> 1\u001b[0;31m \u001b[0mpl_df_train\u001b[0m \u001b[0;34m=\u001b[0m \u001b[0mpl\u001b[0m\u001b[0;34m.\u001b[0m\u001b[0mread_csv\u001b[0m\u001b[0;34m(\u001b[0m\u001b[0;34m\"train.csv\"\u001b[0m\u001b[0;34m)\u001b[0m\u001b[0;34m\u001b[0m\u001b[0;34m\u001b[0m\u001b[0m\n\u001b[0m",
      "\u001b[0;32m~/Documents/src/medium-pandas-vs-polars/venv/lib/python3.11/site-packages/polars/io/csv/functions.py\u001b[0m in \u001b[0;36m?\u001b[0;34m(source, has_header, columns, new_columns, separator, comment_char, quote_char, skip_rows, dtypes, schema, null_values, missing_utf8_is_empty_string, ignore_errors, try_parse_dates, n_threads, infer_schema_length, batch_size, n_rows, encoding, low_memory, rechunk, use_pyarrow, storage_options, skip_rows_after_header, row_count_name, row_count_offset, sample_size, eol_char, raise_if_empty, truncate_ragged_lines)\u001b[0m\n\u001b[1;32m    362\u001b[0m         \u001b[0muse_pyarrow\u001b[0m\u001b[0;34m=\u001b[0m\u001b[0;32mFalse\u001b[0m\u001b[0;34m,\u001b[0m\u001b[0;34m\u001b[0m\u001b[0;34m\u001b[0m\u001b[0m\n\u001b[1;32m    363\u001b[0m         \u001b[0mraise_if_empty\u001b[0m\u001b[0;34m=\u001b[0m\u001b[0mraise_if_empty\u001b[0m\u001b[0;34m,\u001b[0m\u001b[0;34m\u001b[0m\u001b[0;34m\u001b[0m\u001b[0m\n\u001b[1;32m    364\u001b[0m         \u001b[0;34m**\u001b[0m\u001b[0mstorage_options\u001b[0m\u001b[0;34m,\u001b[0m\u001b[0;34m\u001b[0m\u001b[0;34m\u001b[0m\u001b[0m\n\u001b[1;32m    365\u001b[0m     ) as data:\n\u001b[0;32m--> 366\u001b[0;31m         df = pl.DataFrame._read_csv(\n\u001b[0m\u001b[1;32m    367\u001b[0m             \u001b[0mdata\u001b[0m\u001b[0;34m,\u001b[0m\u001b[0;34m\u001b[0m\u001b[0;34m\u001b[0m\u001b[0m\n\u001b[1;32m    368\u001b[0m             \u001b[0mhas_header\u001b[0m\u001b[0;34m=\u001b[0m\u001b[0mhas_header\u001b[0m\u001b[0;34m,\u001b[0m\u001b[0;34m\u001b[0m\u001b[0;34m\u001b[0m\u001b[0m\n\u001b[1;32m    369\u001b[0m             \u001b[0mcolumns\u001b[0m\u001b[0;34m=\u001b[0m\u001b[0mcolumns\u001b[0m \u001b[0;32mif\u001b[0m \u001b[0mcolumns\u001b[0m \u001b[0;32melse\u001b[0m \u001b[0mprojection\u001b[0m\u001b[0;34m,\u001b[0m\u001b[0;34m\u001b[0m\u001b[0;34m\u001b[0m\u001b[0m\n",
      "\u001b[0;32m~/Documents/src/medium-pandas-vs-polars/venv/lib/python3.11/site-packages/polars/dataframe/frame.py\u001b[0m in \u001b[0;36m?\u001b[0;34m(cls, source, has_header, columns, separator, comment_char, quote_char, skip_rows, dtypes, schema, null_values, missing_utf8_is_empty_string, ignore_errors, try_parse_dates, n_threads, infer_schema_length, batch_size, n_rows, encoding, low_memory, rechunk, skip_rows_after_header, row_count_name, row_count_offset, sample_size, eol_char, raise_if_empty, truncate_ragged_lines)\u001b[0m\n\u001b[1;32m    768\u001b[0m                 )\n\u001b[1;32m    769\u001b[0m \u001b[0;34m\u001b[0m\u001b[0m\n\u001b[1;32m    770\u001b[0m         \u001b[0mprojection\u001b[0m\u001b[0;34m,\u001b[0m \u001b[0mcolumns\u001b[0m \u001b[0;34m=\u001b[0m \u001b[0mhandle_projection_columns\u001b[0m\u001b[0;34m(\u001b[0m\u001b[0mcolumns\u001b[0m\u001b[0;34m)\u001b[0m\u001b[0;34m\u001b[0m\u001b[0;34m\u001b[0m\u001b[0m\n\u001b[1;32m    771\u001b[0m \u001b[0;34m\u001b[0m\u001b[0m\n\u001b[0;32m--> 772\u001b[0;31m         self._df = PyDataFrame.read_csv(\n\u001b[0m\u001b[1;32m    773\u001b[0m             \u001b[0msource\u001b[0m\u001b[0;34m,\u001b[0m\u001b[0;34m\u001b[0m\u001b[0;34m\u001b[0m\u001b[0m\n\u001b[1;32m    774\u001b[0m             \u001b[0minfer_schema_length\u001b[0m\u001b[0;34m,\u001b[0m\u001b[0;34m\u001b[0m\u001b[0;34m\u001b[0m\u001b[0m\n\u001b[1;32m    775\u001b[0m             \u001b[0mbatch_size\u001b[0m\u001b[0;34m,\u001b[0m\u001b[0;34m\u001b[0m\u001b[0;34m\u001b[0m\u001b[0m\n",
      "\u001b[0;31mComputeError\u001b[0m: Could not parse `__-333333333333333333333333333__` as dtype `f64` at column 'Monthly_Balance' (column number 27).\nThe current offset in the file is 23442390 bytes.\n\nYou might want to try:\n- increasing `infer_schema_length` (e.g. `infer_schema_length=10000`),\n- specifying correct dtype with the `dtypes` argument\n- setting `ignore_errors` to `True`,\n- adding `__-333333333333333333333333333__` to the `null_values` list."
     ]
    }
   ],
   "source": [
    "pl_df_train = pl.read_csv(\"train.csv\")"
   ]
  },
  {
   "cell_type": "code",
   "execution_count": null,
   "id": "a6583f6e-3658-4379-8bed-b8aa8b6c7b8d",
   "metadata": {
    "ExecuteTime": {
     "end_time": "2023-11-05T17:39:56.070064Z",
     "start_time": "2023-11-05T17:39:56.014543Z"
    }
   },
   "outputs": [],
   "source": [
    "NULL_VALUES_LIST = [\"__-333333333333333333333333333__\"]\n",
    "pl_df_train = pl.read_csv(\"train.csv\", null_values=NULL_VALUES_LIST)"
   ]
  },
  {
   "cell_type": "code",
   "execution_count": null,
   "id": "0aed0b1c-9b21-4b62-8873-f0c849d36e8d",
   "metadata": {},
   "outputs": [],
   "source": [
    "x = pl.read_csv(\"train.csv\", ignore_errors=True)"
   ]
  },
  {
   "cell_type": "code",
   "execution_count": null,
   "id": "39d9cdb1-538f-4f8f-838f-9facb8a3d9a2",
   "metadata": {},
   "outputs": [],
   "source": [
    "x"
   ]
  },
  {
   "cell_type": "code",
   "execution_count": null,
   "id": "2b19df0f1945995",
   "metadata": {
    "ExecuteTime": {
     "end_time": "2023-11-05T17:41:42.116798Z",
     "start_time": "2023-11-05T17:41:42.105696Z"
    },
    "collapsed": false,
    "jupyter": {
     "outputs_hidden": false
    }
   },
   "outputs": [],
   "source": [
    "pl_df_train.dtypes"
   ]
  },
  {
   "cell_type": "code",
   "execution_count": null,
   "id": "5f9164ba-34fe-4764-a3bb-f14990a7f227",
   "metadata": {
    "ExecuteTime": {
     "end_time": "2023-11-05T17:41:27.680913Z",
     "start_time": "2023-11-05T17:41:27.670932Z"
    }
   },
   "outputs": [],
   "source": [
    "pl_df_train.schema"
   ]
  },
  {
   "cell_type": "code",
   "execution_count": null,
   "id": "69c1f557-cd65-403d-b87b-56e13b0167db",
   "metadata": {},
   "outputs": [],
   "source": [
    "df_train.Delay_from_due_date.describe()"
   ]
  }
 ],
 "metadata": {
  "kernelspec": {
   "display_name": "Python 3 (ipykernel)",
   "language": "python",
   "name": "python3"
  },
  "language_info": {
   "codemirror_mode": {
    "name": "ipython",
    "version": 3
   },
   "file_extension": ".py",
   "mimetype": "text/x-python",
   "name": "python",
   "nbconvert_exporter": "python",
   "pygments_lexer": "ipython3",
   "version": "3.11.4"
  }
 },
 "nbformat": 4,
 "nbformat_minor": 5
}
