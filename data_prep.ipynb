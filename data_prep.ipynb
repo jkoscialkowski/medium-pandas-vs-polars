{
 "cells": [
  {
   "cell_type": "code",
   "execution_count": 1,
   "id": "30230ec0-c90d-4377-b27d-283e6dda14f8",
   "metadata": {
    "ExecuteTime": {
     "end_time": "2023-11-05T17:38:03.465318Z",
     "start_time": "2023-11-05T17:37:59.359820Z"
    }
   },
   "outputs": [],
   "source": [
    "import numpy as np\n",
    "import matplotlib.pyplot as plt\n",
    "import pandas as pd\n",
    "import polars as pl\n",
    "import re\n",
    "\n",
    "from collections import Counter\n",
    "from ydata_profiling import ProfileReport\n",
    "\n",
    "import transform_pd as tpd\n",
    "import transform_pl as tpl\n",
    "\n",
    "from utils import get_non_castable\n",
    "from constants import *"
   ]
  },
  {
   "cell_type": "code",
   "execution_count": 2,
   "id": "1d98dccc-6b47-475f-af95-ed72d919732b",
   "metadata": {},
   "outputs": [],
   "source": [
    "%load_ext autoreload\n",
    "%autoreload 2"
   ]
  },
  {
   "cell_type": "markdown",
   "id": "f2861638ea1327af",
   "metadata": {
    "collapsed": false,
    "jupyter": {
     "outputs_hidden": false
    }
   },
   "source": [
    "# Pandas"
   ]
  },
  {
   "cell_type": "markdown",
   "id": "48d92e03-fe98-4307-975e-8f4c1d909c3b",
   "metadata": {},
   "source": [
    "## Read data"
   ]
  },
  {
   "cell_type": "code",
   "execution_count": 3,
   "id": "d648ee11-89c0-414f-a644-1db227ab245b",
   "metadata": {},
   "outputs": [],
   "source": [
    "pd.set_option(\"display.max_columns\", None)\n",
    "pd.set_option(\"display.max_rows\", 100)"
   ]
  },
  {
   "cell_type": "code",
   "execution_count": 4,
   "id": "363b4ea4-c03f-4df9-b1f7-00641ddad8f8",
   "metadata": {},
   "outputs": [
    {
     "name": "stderr",
     "output_type": "stream",
     "text": [
      "/var/folders/rr/2my7n2l5511dqbvltxz0qyzh0000gq/T/ipykernel_90770/768096524.py:1: DtypeWarning: Columns (26) have mixed types. Specify dtype option on import or set low_memory=False.\n",
      "  pd_df_train = pd.read_csv(\"train.csv\")\n"
     ]
    }
   ],
   "source": [
    "pd_df_train = pd.read_csv(\"train.csv\")"
   ]
  },
  {
   "cell_type": "code",
   "execution_count": 5,
   "id": "bf94583b-c9a7-42c5-ba18-f56cad17dace",
   "metadata": {},
   "outputs": [
    {
     "data": {
      "text/plain": [
       "'Monthly_Balance'"
      ]
     },
     "execution_count": 5,
     "metadata": {},
     "output_type": "execute_result"
    }
   ],
   "source": [
    "pd_df_train.columns[26]"
   ]
  },
  {
   "cell_type": "code",
   "execution_count": 6,
   "id": "df6fb830-9f87-4720-afdd-17838e0dd8fc",
   "metadata": {},
   "outputs": [
    {
     "data": {
      "text/plain": [
       "['__-333333333333333333333333333__',\n",
       " '__-333333333333333333333333333__',\n",
       " '__-333333333333333333333333333__',\n",
       " '__-333333333333333333333333333__',\n",
       " '__-333333333333333333333333333__',\n",
       " '__-333333333333333333333333333__',\n",
       " '__-333333333333333333333333333__',\n",
       " '__-333333333333333333333333333__',\n",
       " '__-333333333333333333333333333__']"
      ]
     },
     "execution_count": 6,
     "metadata": {},
     "output_type": "execute_result"
    }
   ],
   "source": [
    "get_non_castable(pd_df_train, \"Monthly_Balance\", float)"
   ]
  },
  {
   "cell_type": "code",
   "execution_count": 7,
   "id": "9f79098a-9545-4611-9851-8366327c20a7",
   "metadata": {},
   "outputs": [],
   "source": [
    "NA_VALUES = {\"Monthly_Balance\": \"__-333333333333333333333333333__\"}\n",
    "pd_df_train = pd.read_csv(\"train.csv\", na_values=NA_VALUES)"
   ]
  },
  {
   "cell_type": "code",
   "execution_count": 8,
   "id": "a1872045-b84b-47a7-98f9-85ecf4b8981a",
   "metadata": {},
   "outputs": [
    {
     "data": {
      "text/html": [
       "<div>\n",
       "<style scoped>\n",
       "    .dataframe tbody tr th:only-of-type {\n",
       "        vertical-align: middle;\n",
       "    }\n",
       "\n",
       "    .dataframe tbody tr th {\n",
       "        vertical-align: top;\n",
       "    }\n",
       "\n",
       "    .dataframe thead th {\n",
       "        text-align: right;\n",
       "    }\n",
       "</style>\n",
       "<table border=\"1\" class=\"dataframe\">\n",
       "  <thead>\n",
       "    <tr style=\"text-align: right;\">\n",
       "      <th></th>\n",
       "      <th>ID</th>\n",
       "      <th>Customer_ID</th>\n",
       "      <th>Month</th>\n",
       "      <th>Name</th>\n",
       "      <th>Age</th>\n",
       "      <th>SSN</th>\n",
       "      <th>Occupation</th>\n",
       "      <th>Annual_Income</th>\n",
       "      <th>Monthly_Inhand_Salary</th>\n",
       "      <th>Num_Bank_Accounts</th>\n",
       "      <th>Num_Credit_Card</th>\n",
       "      <th>Interest_Rate</th>\n",
       "      <th>Num_of_Loan</th>\n",
       "      <th>Type_of_Loan</th>\n",
       "      <th>Delay_from_due_date</th>\n",
       "      <th>Num_of_Delayed_Payment</th>\n",
       "      <th>Changed_Credit_Limit</th>\n",
       "      <th>Num_Credit_Inquiries</th>\n",
       "      <th>Credit_Mix</th>\n",
       "      <th>Outstanding_Debt</th>\n",
       "      <th>Credit_Utilization_Ratio</th>\n",
       "      <th>Credit_History_Age</th>\n",
       "      <th>Payment_of_Min_Amount</th>\n",
       "      <th>Total_EMI_per_month</th>\n",
       "      <th>Amount_invested_monthly</th>\n",
       "      <th>Payment_Behaviour</th>\n",
       "      <th>Monthly_Balance</th>\n",
       "      <th>Credit_Score</th>\n",
       "    </tr>\n",
       "  </thead>\n",
       "  <tbody>\n",
       "    <tr>\n",
       "      <th>0</th>\n",
       "      <td>0x1602</td>\n",
       "      <td>CUS_0xd40</td>\n",
       "      <td>January</td>\n",
       "      <td>Aaron Maashoh</td>\n",
       "      <td>23</td>\n",
       "      <td>821-00-0265</td>\n",
       "      <td>Scientist</td>\n",
       "      <td>19114.12</td>\n",
       "      <td>1824.843333</td>\n",
       "      <td>3</td>\n",
       "      <td>4</td>\n",
       "      <td>3</td>\n",
       "      <td>4</td>\n",
       "      <td>Auto Loan, Credit-Builder Loan, Personal Loan,...</td>\n",
       "      <td>3</td>\n",
       "      <td>7</td>\n",
       "      <td>11.27</td>\n",
       "      <td>4.0</td>\n",
       "      <td>_</td>\n",
       "      <td>809.98</td>\n",
       "      <td>26.822620</td>\n",
       "      <td>22 Years and 1 Months</td>\n",
       "      <td>No</td>\n",
       "      <td>49.574949</td>\n",
       "      <td>80.41529543900253</td>\n",
       "      <td>High_spent_Small_value_payments</td>\n",
       "      <td>312.494089</td>\n",
       "      <td>Good</td>\n",
       "    </tr>\n",
       "    <tr>\n",
       "      <th>1</th>\n",
       "      <td>0x1603</td>\n",
       "      <td>CUS_0xd40</td>\n",
       "      <td>February</td>\n",
       "      <td>Aaron Maashoh</td>\n",
       "      <td>23</td>\n",
       "      <td>821-00-0265</td>\n",
       "      <td>Scientist</td>\n",
       "      <td>19114.12</td>\n",
       "      <td>NaN</td>\n",
       "      <td>3</td>\n",
       "      <td>4</td>\n",
       "      <td>3</td>\n",
       "      <td>4</td>\n",
       "      <td>Auto Loan, Credit-Builder Loan, Personal Loan,...</td>\n",
       "      <td>-1</td>\n",
       "      <td>NaN</td>\n",
       "      <td>11.27</td>\n",
       "      <td>4.0</td>\n",
       "      <td>Good</td>\n",
       "      <td>809.98</td>\n",
       "      <td>31.944960</td>\n",
       "      <td>NaN</td>\n",
       "      <td>No</td>\n",
       "      <td>49.574949</td>\n",
       "      <td>118.28022162236736</td>\n",
       "      <td>Low_spent_Large_value_payments</td>\n",
       "      <td>284.629162</td>\n",
       "      <td>Good</td>\n",
       "    </tr>\n",
       "    <tr>\n",
       "      <th>2</th>\n",
       "      <td>0x1604</td>\n",
       "      <td>CUS_0xd40</td>\n",
       "      <td>March</td>\n",
       "      <td>Aaron Maashoh</td>\n",
       "      <td>-500</td>\n",
       "      <td>821-00-0265</td>\n",
       "      <td>Scientist</td>\n",
       "      <td>19114.12</td>\n",
       "      <td>NaN</td>\n",
       "      <td>3</td>\n",
       "      <td>4</td>\n",
       "      <td>3</td>\n",
       "      <td>4</td>\n",
       "      <td>Auto Loan, Credit-Builder Loan, Personal Loan,...</td>\n",
       "      <td>3</td>\n",
       "      <td>7</td>\n",
       "      <td>_</td>\n",
       "      <td>4.0</td>\n",
       "      <td>Good</td>\n",
       "      <td>809.98</td>\n",
       "      <td>28.609352</td>\n",
       "      <td>22 Years and 3 Months</td>\n",
       "      <td>No</td>\n",
       "      <td>49.574949</td>\n",
       "      <td>81.699521264648</td>\n",
       "      <td>Low_spent_Medium_value_payments</td>\n",
       "      <td>331.209863</td>\n",
       "      <td>Good</td>\n",
       "    </tr>\n",
       "    <tr>\n",
       "      <th>3</th>\n",
       "      <td>0x1605</td>\n",
       "      <td>CUS_0xd40</td>\n",
       "      <td>April</td>\n",
       "      <td>Aaron Maashoh</td>\n",
       "      <td>23</td>\n",
       "      <td>821-00-0265</td>\n",
       "      <td>Scientist</td>\n",
       "      <td>19114.12</td>\n",
       "      <td>NaN</td>\n",
       "      <td>3</td>\n",
       "      <td>4</td>\n",
       "      <td>3</td>\n",
       "      <td>4</td>\n",
       "      <td>Auto Loan, Credit-Builder Loan, Personal Loan,...</td>\n",
       "      <td>5</td>\n",
       "      <td>4</td>\n",
       "      <td>6.27</td>\n",
       "      <td>4.0</td>\n",
       "      <td>Good</td>\n",
       "      <td>809.98</td>\n",
       "      <td>31.377862</td>\n",
       "      <td>22 Years and 4 Months</td>\n",
       "      <td>No</td>\n",
       "      <td>49.574949</td>\n",
       "      <td>199.4580743910713</td>\n",
       "      <td>Low_spent_Small_value_payments</td>\n",
       "      <td>223.451310</td>\n",
       "      <td>Good</td>\n",
       "    </tr>\n",
       "    <tr>\n",
       "      <th>4</th>\n",
       "      <td>0x1606</td>\n",
       "      <td>CUS_0xd40</td>\n",
       "      <td>May</td>\n",
       "      <td>Aaron Maashoh</td>\n",
       "      <td>23</td>\n",
       "      <td>821-00-0265</td>\n",
       "      <td>Scientist</td>\n",
       "      <td>19114.12</td>\n",
       "      <td>1824.843333</td>\n",
       "      <td>3</td>\n",
       "      <td>4</td>\n",
       "      <td>3</td>\n",
       "      <td>4</td>\n",
       "      <td>Auto Loan, Credit-Builder Loan, Personal Loan,...</td>\n",
       "      <td>6</td>\n",
       "      <td>NaN</td>\n",
       "      <td>11.27</td>\n",
       "      <td>4.0</td>\n",
       "      <td>Good</td>\n",
       "      <td>809.98</td>\n",
       "      <td>24.797347</td>\n",
       "      <td>22 Years and 5 Months</td>\n",
       "      <td>No</td>\n",
       "      <td>49.574949</td>\n",
       "      <td>41.420153086217326</td>\n",
       "      <td>High_spent_Medium_value_payments</td>\n",
       "      <td>341.489231</td>\n",
       "      <td>Good</td>\n",
       "    </tr>\n",
       "  </tbody>\n",
       "</table>\n",
       "</div>"
      ],
      "text/plain": [
       "       ID Customer_ID     Month           Name   Age          SSN Occupation  \\\n",
       "0  0x1602   CUS_0xd40   January  Aaron Maashoh    23  821-00-0265  Scientist   \n",
       "1  0x1603   CUS_0xd40  February  Aaron Maashoh    23  821-00-0265  Scientist   \n",
       "2  0x1604   CUS_0xd40     March  Aaron Maashoh  -500  821-00-0265  Scientist   \n",
       "3  0x1605   CUS_0xd40     April  Aaron Maashoh    23  821-00-0265  Scientist   \n",
       "4  0x1606   CUS_0xd40       May  Aaron Maashoh    23  821-00-0265  Scientist   \n",
       "\n",
       "  Annual_Income  Monthly_Inhand_Salary  Num_Bank_Accounts  Num_Credit_Card  \\\n",
       "0      19114.12            1824.843333                  3                4   \n",
       "1      19114.12                    NaN                  3                4   \n",
       "2      19114.12                    NaN                  3                4   \n",
       "3      19114.12                    NaN                  3                4   \n",
       "4      19114.12            1824.843333                  3                4   \n",
       "\n",
       "   Interest_Rate Num_of_Loan  \\\n",
       "0              3           4   \n",
       "1              3           4   \n",
       "2              3           4   \n",
       "3              3           4   \n",
       "4              3           4   \n",
       "\n",
       "                                        Type_of_Loan  Delay_from_due_date  \\\n",
       "0  Auto Loan, Credit-Builder Loan, Personal Loan,...                    3   \n",
       "1  Auto Loan, Credit-Builder Loan, Personal Loan,...                   -1   \n",
       "2  Auto Loan, Credit-Builder Loan, Personal Loan,...                    3   \n",
       "3  Auto Loan, Credit-Builder Loan, Personal Loan,...                    5   \n",
       "4  Auto Loan, Credit-Builder Loan, Personal Loan,...                    6   \n",
       "\n",
       "  Num_of_Delayed_Payment Changed_Credit_Limit  Num_Credit_Inquiries  \\\n",
       "0                      7                11.27                   4.0   \n",
       "1                    NaN                11.27                   4.0   \n",
       "2                      7                    _                   4.0   \n",
       "3                      4                 6.27                   4.0   \n",
       "4                    NaN                11.27                   4.0   \n",
       "\n",
       "  Credit_Mix Outstanding_Debt  Credit_Utilization_Ratio  \\\n",
       "0          _           809.98                 26.822620   \n",
       "1       Good           809.98                 31.944960   \n",
       "2       Good           809.98                 28.609352   \n",
       "3       Good           809.98                 31.377862   \n",
       "4       Good           809.98                 24.797347   \n",
       "\n",
       "      Credit_History_Age Payment_of_Min_Amount  Total_EMI_per_month  \\\n",
       "0  22 Years and 1 Months                    No            49.574949   \n",
       "1                    NaN                    No            49.574949   \n",
       "2  22 Years and 3 Months                    No            49.574949   \n",
       "3  22 Years and 4 Months                    No            49.574949   \n",
       "4  22 Years and 5 Months                    No            49.574949   \n",
       "\n",
       "  Amount_invested_monthly                 Payment_Behaviour  Monthly_Balance  \\\n",
       "0       80.41529543900253   High_spent_Small_value_payments       312.494089   \n",
       "1      118.28022162236736    Low_spent_Large_value_payments       284.629162   \n",
       "2         81.699521264648   Low_spent_Medium_value_payments       331.209863   \n",
       "3       199.4580743910713    Low_spent_Small_value_payments       223.451310   \n",
       "4      41.420153086217326  High_spent_Medium_value_payments       341.489231   \n",
       "\n",
       "  Credit_Score  \n",
       "0         Good  \n",
       "1         Good  \n",
       "2         Good  \n",
       "3         Good  \n",
       "4         Good  "
      ]
     },
     "execution_count": 8,
     "metadata": {},
     "output_type": "execute_result"
    }
   ],
   "source": [
    "pd_df_train.head()"
   ]
  },
  {
   "cell_type": "markdown",
   "id": "e7dbb39b-1c20-4058-8a5f-e6ff8b830f8e",
   "metadata": {},
   "source": [
    "## Check validity"
   ]
  },
  {
   "cell_type": "code",
   "execution_count": 9,
   "id": "49d11b97-071c-40e6-8b52-f73f2701b1d6",
   "metadata": {},
   "outputs": [
    {
     "data": {
      "text/plain": [
       "ID                           object\n",
       "Customer_ID                  object\n",
       "Month                        object\n",
       "Name                         object\n",
       "Age                          object\n",
       "SSN                          object\n",
       "Occupation                   object\n",
       "Annual_Income                object\n",
       "Monthly_Inhand_Salary       float64\n",
       "Num_Bank_Accounts             int64\n",
       "Num_Credit_Card               int64\n",
       "Interest_Rate                 int64\n",
       "Num_of_Loan                  object\n",
       "Type_of_Loan                 object\n",
       "Delay_from_due_date           int64\n",
       "Num_of_Delayed_Payment       object\n",
       "Changed_Credit_Limit         object\n",
       "Num_Credit_Inquiries        float64\n",
       "Credit_Mix                   object\n",
       "Outstanding_Debt             object\n",
       "Credit_Utilization_Ratio    float64\n",
       "Credit_History_Age           object\n",
       "Payment_of_Min_Amount        object\n",
       "Total_EMI_per_month         float64\n",
       "Amount_invested_monthly      object\n",
       "Payment_Behaviour            object\n",
       "Monthly_Balance             float64\n",
       "Credit_Score                 object\n",
       "dtype: object"
      ]
     },
     "execution_count": 9,
     "metadata": {},
     "output_type": "execute_result"
    }
   ],
   "source": [
    "pd_df_train.dtypes"
   ]
  },
  {
   "cell_type": "code",
   "execution_count": 10,
   "id": "78915462-b8d8-4397-8926-21ebe94b507c",
   "metadata": {},
   "outputs": [
    {
     "name": "stdout",
     "output_type": "stream",
     "text": [
      "ID\n",
      "Examples of non-castable values: ['0x1602', '0x1603', '0x1604', '0x1605', '0x1606', '0x1607', '0x1608', '0x1609', '0x160e', '0x160f']\n",
      "Unique values (potentially trimmed): ['0x1602' '0x1603' '0x1604' '0x1605' '0x1606' '0x1607' '0x1608' '0x1609'\n",
      " '0x160e' '0x160f']\n",
      "\n",
      "Customer_ID\n",
      "Examples of non-castable values: ['CUS_0xd40', 'CUS_0xd40', 'CUS_0xd40', 'CUS_0xd40', 'CUS_0xd40', 'CUS_0xd40', 'CUS_0xd40', 'CUS_0xd40', 'CUS_0x21b1', 'CUS_0x21b1']\n",
      "Unique values (potentially trimmed): ['CUS_0xd40' 'CUS_0x21b1' 'CUS_0x2dbc' 'CUS_0xb891' 'CUS_0x1cdb'\n",
      " 'CUS_0x95ee' 'CUS_0x284a' 'CUS_0x5407' 'CUS_0x4157' 'CUS_0xba08']\n",
      "\n",
      "Month\n",
      "Examples of non-castable values: ['January', 'February', 'March', 'April', 'May', 'June', 'July', 'August', 'January', 'February']\n",
      "Unique values (potentially trimmed): ['January' 'February' 'March' 'April' 'May' 'June' 'July' 'August']\n",
      "\n",
      "Name\n",
      "Examples of non-castable values: ['Aaron Maashoh', 'Aaron Maashoh', 'Aaron Maashoh', 'Aaron Maashoh', 'Aaron Maashoh', 'Aaron Maashoh', 'Aaron Maashoh', 'Rick Rothackerj', 'Rick Rothackerj', 'Rick Rothackerj']\n",
      "Unique values (potentially trimmed): ['Aaron Maashoh' nan 'Rick Rothackerj' 'Langep' 'Jasond' 'Deepaa' 'Np'\n",
      " 'Nadiaq' 'Annk' 'Charlie Zhur']\n",
      "\n",
      "Age\n",
      "Examples of non-castable values: ['28_', '34_', '30_', '24_', '33_', '35_', '30_', '31_', '40_', '37_']\n",
      "Unique values (potentially trimmed): ['23' '-500' '28_' '28' '34' '54' '55' '21' '31' '33']\n",
      "\n",
      "SSN\n",
      "Examples of non-castable values: ['821-00-0265', '821-00-0265', '821-00-0265', '821-00-0265', '821-00-0265', '821-00-0265', '821-00-0265', '#F%$D@*&8', '004-07-5839', '004-07-5839']\n",
      "Unique values (potentially trimmed): ['821-00-0265' '#F%$D@*&8' '004-07-5839' '486-85-3974' '072-31-6145'\n",
      " '615-06-7821' '612-70-8987' '411-51-0676' '500-92-6408' '070-19-1622']\n",
      "\n",
      "Occupation\n",
      "Examples of non-castable values: ['Scientist', 'Scientist', 'Scientist', 'Scientist', 'Scientist', 'Scientist', 'Scientist', 'Scientist', '_______', 'Teacher']\n",
      "Unique values (potentially trimmed): ['Scientist' '_______' 'Teacher' 'Engineer' 'Entrepreneur' 'Developer'\n",
      " 'Lawyer' 'Media_Manager' 'Doctor' 'Journalist']\n",
      "\n",
      "Annual_Income\n",
      "Examples of non-castable values: ['34847.84_', '30689.89_', '35547.71_', '34081.38_', '114838.41_', '88640.24_', '54392.16_', '8701.545_', '8701.545_', '25546.26_']\n",
      "Unique values (potentially trimmed): ['19114.12' '34847.84' '34847.84_' '143162.64' '30689.89' '30689.89_'\n",
      " '35547.71_' '35547.71' '73928.46' '131313.4']\n",
      "\n",
      "Monthly_Inhand_Salary\n",
      "Examples of non-castable values: []\n",
      "Unique values (potentially trimmed): [ 1824.84333333            nan  3037.98666667 12187.22\n",
      "  2612.49083333  2853.30916667  5988.705      11242.78333333\n",
      " 10469.20775939  2611.115     ]\n",
      "\n",
      "Num_Bank_Accounts\n",
      "Examples of non-castable values: []\n",
      "Unique values (potentially trimmed): [3 2 1 7 4 0 8 5 6 9]\n",
      "\n",
      "Num_Credit_Card\n",
      "Examples of non-castable values: []\n",
      "Unique values (potentially trimmed): [   4 1385    5 1288    1    7    6 1029  488    8]\n",
      "\n",
      "Interest_Rate\n",
      "Examples of non-castable values: []\n",
      "Unique values (potentially trimmed): [   3    6    8    4    5 5318   15    7   12   20]\n",
      "\n",
      "Num_of_Loan\n",
      "Examples of non-castable values: ['0_', '3_', '3_', '2_', '5_', '2_', '0_', '0_', '5_', '2_']\n",
      "Unique values (potentially trimmed): ['4' '1' '3' '967' '-100' '0' '0_' '2' '3_' '2_']\n",
      "\n",
      "Type_of_Loan\n",
      "Examples of non-castable values: ['Auto Loan, Credit-Builder Loan, Personal Loan, and Home Equity Loan', 'Auto Loan, Credit-Builder Loan, Personal Loan, and Home Equity Loan', 'Auto Loan, Credit-Builder Loan, Personal Loan, and Home Equity Loan', 'Auto Loan, Credit-Builder Loan, Personal Loan, and Home Equity Loan', 'Auto Loan, Credit-Builder Loan, Personal Loan, and Home Equity Loan', 'Auto Loan, Credit-Builder Loan, Personal Loan, and Home Equity Loan', 'Auto Loan, Credit-Builder Loan, Personal Loan, and Home Equity Loan', 'Auto Loan, Credit-Builder Loan, Personal Loan, and Home Equity Loan', 'Credit-Builder Loan', 'Credit-Builder Loan']\n",
      "Unique values (potentially trimmed): ['Auto Loan, Credit-Builder Loan, Personal Loan, and Home Equity Loan'\n",
      " 'Credit-Builder Loan' 'Auto Loan, Auto Loan, and Not Specified'\n",
      " 'Not Specified' nan 'Credit-Builder Loan, and Mortgage Loan'\n",
      " 'Not Specified, Auto Loan, and Student Loan'\n",
      " 'Personal Loan, Debt Consolidation Loan, and Auto Loan'\n",
      " 'Not Specified, and Payday Loan'\n",
      " 'Credit-Builder Loan, Personal Loan, and Auto Loan']\n",
      "\n",
      "Delay_from_due_date\n",
      "Examples of non-castable values: []\n",
      "Unique values (potentially trimmed): [ 3 -1  5  6  8  7 13 10  0  4]\n",
      "\n",
      "Num_of_Delayed_Payment\n",
      "Examples of non-castable values: ['8_', '3_', '3_', '2_', '13_', '14_', '12_', '8_', '22_', '14_']\n",
      "Unique values (potentially trimmed): ['7' nan '4' '8_' '6' '1' '-1' '3_' '0' '8']\n",
      "\n",
      "Changed_Credit_Limit\n",
      "Examples of non-castable values: ['_', '_', '_', '_', '_', '_', '_', '_', '_', '_']\n",
      "Unique values (potentially trimmed): ['11.27' '_' '6.27' '9.27' '5.42' '7.42' '6.42' '7.1' '11.1' '9.1']\n",
      "\n",
      "Num_Credit_Inquiries\n",
      "Examples of non-castable values: []\n",
      "Unique values (potentially trimmed): [ 4.  2.  3. nan  5.  9.  8.  7.  6.  0.]\n",
      "\n",
      "Credit_Mix\n",
      "Examples of non-castable values: ['_', 'Good', 'Good', 'Good', 'Good', 'Good', 'Good', 'Good', 'Good', 'Good']\n",
      "Unique values (potentially trimmed): ['_' 'Good' 'Standard' 'Bad']\n",
      "\n",
      "Outstanding_Debt\n",
      "Examples of non-castable values: ['1328.93_', '1283.37_', '2797.17_', '3818.57_', '343.84_', '363.51_', '404.51_', '1755.81_', '2593.44_', '89.62_']\n",
      "Unique values (potentially trimmed): ['809.98' '605.03' '1303.01' '632.46' '943.86' '548.2' '352.16' '1704.18'\n",
      " '1377.74' '421.43']\n",
      "\n",
      "Credit_Utilization_Ratio\n",
      "Examples of non-castable values: []\n",
      "Unique values (potentially trimmed): [26.82261962 31.94496006 28.60935202 31.37786187 24.79734691 27.26225871\n",
      " 22.53759303 23.9337948  24.46403064 38.55084843]\n",
      "\n",
      "Credit_History_Age\n",
      "Examples of non-castable values: ['22 Years and 1 Months', '22 Years and 3 Months', '22 Years and 4 Months', '22 Years and 5 Months', '22 Years and 6 Months', '22 Years and 7 Months', '26 Years and 7 Months', '26 Years and 8 Months', '26 Years and 9 Months', '26 Years and 10 Months']\n",
      "Unique values (potentially trimmed): ['22 Years and 1 Months' nan '22 Years and 3 Months'\n",
      " '22 Years and 4 Months' '22 Years and 5 Months' '22 Years and 6 Months'\n",
      " '22 Years and 7 Months' '26 Years and 7 Months' '26 Years and 8 Months'\n",
      " '26 Years and 9 Months']\n",
      "\n",
      "Payment_of_Min_Amount\n",
      "Examples of non-castable values: ['No', 'No', 'No', 'No', 'No', 'No', 'No', 'No', 'No', 'No']\n",
      "Unique values (potentially trimmed): ['No' 'NM' 'Yes']\n",
      "\n",
      "Total_EMI_per_month\n",
      "Examples of non-castable values: []\n",
      "Unique values (potentially trimmed): [4.95749492e+01 1.88162146e+01 2.46992319e+02 1.64154517e+01\n",
      " 0.00000000e+00 1.50150000e+04 1.55150000e+04 1.37644605e+02\n",
      " 9.11220179e+02 2.38340000e+04]\n",
      "\n",
      "Amount_invested_monthly\n",
      "Examples of non-castable values: ['__10000__', '__10000__', '__10000__', '__10000__', '__10000__', '__10000__', '__10000__', '__10000__', '__10000__', '__10000__']\n",
      "Unique values (potentially trimmed): ['80.41529543900253' '118.28022162236736' '81.699521264648'\n",
      " '199.4580743910713' '41.420153086217326' '62.430172331195294'\n",
      " '178.3440674122349' '24.785216509052056' '104.291825168246'\n",
      " '40.39123782853101']\n",
      "\n",
      "Payment_Behaviour\n",
      "Examples of non-castable values: ['High_spent_Small_value_payments', 'Low_spent_Large_value_payments', 'Low_spent_Medium_value_payments', 'Low_spent_Small_value_payments', 'High_spent_Medium_value_payments', '!@9#%8', 'Low_spent_Small_value_payments', 'High_spent_Medium_value_payments', 'Low_spent_Small_value_payments', 'High_spent_Large_value_payments']\n",
      "Unique values (potentially trimmed): ['High_spent_Small_value_payments' 'Low_spent_Large_value_payments'\n",
      " 'Low_spent_Medium_value_payments' 'Low_spent_Small_value_payments'\n",
      " 'High_spent_Medium_value_payments' '!@9#%8'\n",
      " 'High_spent_Large_value_payments']\n",
      "\n",
      "Monthly_Balance\n",
      "Examples of non-castable values: []\n",
      "Unique values (potentially trimmed): [312.49408868 284.6291625  331.20986285 223.45130973 341.48923103\n",
      " 340.47921179 244.56531671 358.12416761 470.69062693 484.59121427]\n",
      "\n",
      "Credit_Score\n",
      "Examples of non-castable values: ['Good', 'Good', 'Good', 'Good', 'Good', 'Good', 'Good', 'Standard', 'Standard', 'Good']\n",
      "Unique values (potentially trimmed): ['Good' 'Standard' 'Poor']\n",
      "\n"
     ]
    }
   ],
   "source": [
    "for var in pd_df_train.columns:\n",
    "    print(var)\n",
    "    print(\"Examples of non-castable values: {}\".format(get_non_castable(pd_df_train, var, float)[:10]))\n",
    "    print(\"Unique values (potentially trimmed): {}\".format(pd_df_train[var].unique()[:10]))\n",
    "    print(\"\")"
   ]
  },
  {
   "cell_type": "markdown",
   "id": "4daa47d3-b442-458a-b93b-cf612a8cdf65",
   "metadata": {},
   "source": [
    "### Type_of_Loan"
   ]
  },
  {
   "cell_type": "code",
   "execution_count": 11,
   "id": "04fb2925-53d9-4b75-b07b-b5c1c1d3e69a",
   "metadata": {},
   "outputs": [
    {
     "data": {
      "text/plain": [
       "Counter({'Payday Loan': 40568,\n",
       "         'Credit-Builder Loan': 40440,\n",
       "         'Not Specified': 39616,\n",
       "         'Home Equity Loan': 39104,\n",
       "         'Student Loan': 38968,\n",
       "         'Mortgage Loan': 38936,\n",
       "         'Personal Loan': 38888,\n",
       "         'Debt Consolidation Loan': 38776,\n",
       "         'Auto Loan': 37992})"
      ]
     },
     "execution_count": 11,
     "metadata": {},
     "output_type": "execute_result"
    }
   ],
   "source": [
    "split = pd_df_train.Type_of_Loan[~pd_df_train.Type_of_Loan.isna()].apply(lambda x: re.split(r\", and |, \", x))\n",
    "Counter([x for l in split.to_list() for x in l])"
   ]
  },
  {
   "cell_type": "code",
   "execution_count": 12,
   "id": "ce5863ef-7841-4252-b254-101c31d4526c",
   "metadata": {},
   "outputs": [],
   "source": [
    "pd_df_train.head(30).to_csv(\"head.csv\", index=False)"
   ]
  },
  {
   "cell_type": "markdown",
   "id": "8c91c2a9-a7fe-4c13-b384-8dd0e6378181",
   "metadata": {},
   "source": [
    "## Clean"
   ]
  },
  {
   "cell_type": "markdown",
   "id": "0654e77f-5727-487d-a9db-4cac9b3ec8a1",
   "metadata": {},
   "source": [
    "### Replace with NaNs"
   ]
  },
  {
   "cell_type": "code",
   "execution_count": 13,
   "id": "468bd1e8-b23c-4972-ab5e-c448a5119b22",
   "metadata": {},
   "outputs": [],
   "source": [
    "pd_df_train_clean = tpd.cleanup_and_cast(pd_df_train)"
   ]
  },
  {
   "cell_type": "markdown",
   "id": "b640dc94-301a-42d3-8fb8-84b1e56a8fb0",
   "metadata": {},
   "source": [
    "### Initial EDA"
   ]
  },
  {
   "cell_type": "code",
   "execution_count": 14,
   "id": "f19ecc7c-9b03-4f4e-9083-de840f2e4e22",
   "metadata": {},
   "outputs": [],
   "source": [
    "pr = ProfileReport(pd_df_train_clean)"
   ]
  },
  {
   "cell_type": "code",
   "execution_count": 15,
   "id": "10d4e9a0-9737-46c0-9942-42b7d43851b5",
   "metadata": {},
   "outputs": [
    {
     "data": {
      "application/vnd.jupyter.widget-view+json": {
       "model_id": "8831b988fb4341fda359e2b678a6f269",
       "version_major": 2,
       "version_minor": 0
      },
      "text/plain": [
       "Summarize dataset:   0%|          | 0/5 [00:00<?, ?it/s]"
      ]
     },
     "metadata": {},
     "output_type": "display_data"
    },
    {
     "data": {
      "application/vnd.jupyter.widget-view+json": {
       "model_id": "cd82ed7e0e194f8d9d86277eb0c29372",
       "version_major": 2,
       "version_minor": 0
      },
      "text/plain": [
       "Generate report structure:   0%|          | 0/1 [00:00<?, ?it/s]"
      ]
     },
     "metadata": {},
     "output_type": "display_data"
    },
    {
     "data": {
      "application/vnd.jupyter.widget-view+json": {
       "model_id": "852306b2cc4f488fbc14c05ae89ed285",
       "version_major": 2,
       "version_minor": 0
      },
      "text/plain": [
       "Render HTML:   0%|          | 0/1 [00:00<?, ?it/s]"
      ]
     },
     "metadata": {},
     "output_type": "display_data"
    },
    {
     "data": {
      "application/vnd.jupyter.widget-view+json": {
       "model_id": "f0bd8c5fe9bd42e681244083629e5080",
       "version_major": 2,
       "version_minor": 0
      },
      "text/plain": [
       "Export report to file:   0%|          | 0/1 [00:00<?, ?it/s]"
      ]
     },
     "metadata": {},
     "output_type": "display_data"
    }
   ],
   "source": [
    "pr.to_file(\"eda.html\")"
   ]
  },
  {
   "cell_type": "markdown",
   "id": "3ae3e26f-2c27-4a48-a36a-49a2eaf70bb4",
   "metadata": {},
   "source": [
    "### Clean up outliers"
   ]
  },
  {
   "cell_type": "code",
   "execution_count": 16,
   "id": "66c551c3-bf30-48fb-af62-aa1d5d36aa69",
   "metadata": {},
   "outputs": [],
   "source": [
    "pd_df_train_clean_no_outliers = tpd.replace_outliers(pd_df_train_clean)"
   ]
  },
  {
   "cell_type": "code",
   "execution_count": 17,
   "id": "e7d9e5ec-7dd1-4e9a-8c69-9372e7082479",
   "metadata": {},
   "outputs": [
    {
     "name": "stdout",
     "output_type": "stream",
     "text": [
      "Age\n",
      "count    97219.000000\n",
      "mean        33.320009\n",
      "std         10.769558\n",
      "min         14.000000\n",
      "25%         24.000000\n",
      "50%         33.000000\n",
      "75%         42.000000\n",
      "max         56.000000\n",
      "Name: Age, dtype: float64\n",
      "\n",
      "Annual_Income\n",
      "count     99001.000000\n",
      "mean      50497.576053\n",
      "std       38296.622971\n",
      "min        7005.930000\n",
      "25%       19344.270000\n",
      "50%       36993.940000\n",
      "75%       71676.000000\n",
      "max      179987.280000\n",
      "Name: Annual_Income, dtype: float64\n",
      "\n",
      "Num_Bank_Accounts\n",
      "count    98685.000000\n",
      "mean         5.367624\n",
      "std          2.593839\n",
      "min         -1.000000\n",
      "25%          3.000000\n",
      "50%          5.000000\n",
      "75%          7.000000\n",
      "max         11.000000\n",
      "Name: Num_Bank_Accounts, dtype: float64\n",
      "\n",
      "Num_Credit_Card\n",
      "count    97729.000000\n",
      "mean         5.533322\n",
      "std          2.067703\n",
      "min          0.000000\n",
      "25%          4.000000\n",
      "50%          5.000000\n",
      "75%          7.000000\n",
      "max         11.000000\n",
      "Name: Num_Credit_Card, dtype: float64\n",
      "\n",
      "Interest_Rate\n",
      "count    97966.000000\n",
      "mean        14.531603\n",
      "std          8.739748\n",
      "min          1.000000\n",
      "25%          7.000000\n",
      "50%         13.000000\n",
      "75%         20.000000\n",
      "max         34.000000\n",
      "Name: Interest_Rate, dtype: float64\n",
      "\n",
      "Num_of_Loan\n",
      "count    95652.000000\n",
      "mean         3.533758\n",
      "std          2.447308\n",
      "min          0.000000\n",
      "25%          2.000000\n",
      "50%          3.000000\n",
      "75%          5.000000\n",
      "max          9.000000\n",
      "Name: Num_of_Loan, dtype: float64\n",
      "\n",
      "Num_of_Delayed_Payment\n",
      "count    71357.000000\n",
      "mean        13.310565\n",
      "std          6.193767\n",
      "min         -2.000000\n",
      "25%          9.000000\n",
      "50%         14.000000\n",
      "75%         18.000000\n",
      "max         27.000000\n",
      "Name: Num_of_Delayed_Payment, dtype: float64\n",
      "\n",
      "Num_Credit_Inquiries\n",
      "count    82226.000000\n",
      "mean         5.620485\n",
      "std          3.794026\n",
      "min          0.000000\n",
      "25%          3.000000\n",
      "50%          5.000000\n",
      "75%          8.000000\n",
      "max         17.000000\n",
      "Name: Num_Credit_Inquiries, dtype: float64\n",
      "\n",
      "Total_EMI_per_month\n",
      "count    94596.000000\n",
      "mean       103.459203\n",
      "std        119.519725\n",
      "min          0.000000\n",
      "25%         28.882213\n",
      "50%         65.556838\n",
      "75%        143.808822\n",
      "max       1779.103254\n",
      "Name: Total_EMI_per_month, dtype: float64\n",
      "\n"
     ]
    }
   ],
   "source": [
    "for var in VARS_WITH_OUTLIERS_TOLERANCES.keys():\n",
    "    print(var)\n",
    "    desc = pd_df_train_clean_no_outliers[var].describe()\n",
    "    print(desc)\n",
    "    print(\"\")"
   ]
  },
  {
   "cell_type": "markdown",
   "id": "eadcd985-8ff0-4162-a813-9cc0af27e720",
   "metadata": {},
   "source": [
    "### EDA after removing outliers"
   ]
  },
  {
   "cell_type": "code",
   "execution_count": 18,
   "id": "8625c0d8-7f3c-46e6-9593-af51b34cc706",
   "metadata": {},
   "outputs": [
    {
     "data": {
      "application/vnd.jupyter.widget-view+json": {
       "model_id": "30027a2b5f0d4eb2903351341bb26b29",
       "version_major": 2,
       "version_minor": 0
      },
      "text/plain": [
       "Summarize dataset:   0%|          | 0/5 [00:00<?, ?it/s]"
      ]
     },
     "metadata": {},
     "output_type": "display_data"
    },
    {
     "data": {
      "application/vnd.jupyter.widget-view+json": {
       "model_id": "3fafe5af4f7b4142839e2609c98331b8",
       "version_major": 2,
       "version_minor": 0
      },
      "text/plain": [
       "Generate report structure:   0%|          | 0/1 [00:00<?, ?it/s]"
      ]
     },
     "metadata": {},
     "output_type": "display_data"
    },
    {
     "data": {
      "application/vnd.jupyter.widget-view+json": {
       "model_id": "8224941f846049c1a8a635f03407e3e8",
       "version_major": 2,
       "version_minor": 0
      },
      "text/plain": [
       "Render HTML:   0%|          | 0/1 [00:00<?, ?it/s]"
      ]
     },
     "metadata": {},
     "output_type": "display_data"
    },
    {
     "data": {
      "application/vnd.jupyter.widget-view+json": {
       "model_id": "617df2cd0747469aba2c09d8f47f7fd4",
       "version_major": 2,
       "version_minor": 0
      },
      "text/plain": [
       "Export report to file:   0%|          | 0/1 [00:00<?, ?it/s]"
      ]
     },
     "metadata": {},
     "output_type": "display_data"
    }
   ],
   "source": [
    "pr_no_outliers = ProfileReport(pd_df_train_clean_no_outliers)\n",
    "pr_no_outliers.to_file(\"eda_no_outliers.html\")"
   ]
  },
  {
   "cell_type": "markdown",
   "id": "faac1c21-bf9a-4c22-af7f-27a2e10a99da",
   "metadata": {},
   "source": [
    "### Fill NaNs"
   ]
  },
  {
   "cell_type": "code",
   "execution_count": 19,
   "id": "a6e1e2e3-d714-4c60-b8fc-bce330b812da",
   "metadata": {},
   "outputs": [
    {
     "data": {
      "text/plain": [
       "ID                              0\n",
       "Customer_ID                     0\n",
       "Month                           0\n",
       "Name                         9985\n",
       "Age                          2781\n",
       "SSN                             0\n",
       "Occupation                   7062\n",
       "Annual_Income                 999\n",
       "Monthly_Inhand_Salary       15002\n",
       "Num_Bank_Accounts            1315\n",
       "Num_Credit_Card              2271\n",
       "Interest_Rate                2034\n",
       "Num_of_Loan                  4348\n",
       "Type_of_Loan                    0\n",
       "Delay_from_due_date             0\n",
       "Num_of_Delayed_Payment      28643\n",
       "Changed_Credit_Limit         2091\n",
       "Num_Credit_Inquiries        17774\n",
       "Credit_Mix                  20195\n",
       "Outstanding_Debt                0\n",
       "Credit_Utilization_Ratio        0\n",
       "Credit_History_Age           9030\n",
       "Payment_of_Min_Amount       12007\n",
       "Total_EMI_per_month          5404\n",
       "Amount_invested_monthly      8784\n",
       "Payment_Behaviour               0\n",
       "Monthly_Balance              1209\n",
       "Credit_Score                    0\n",
       "dtype: int64"
      ]
     },
     "execution_count": 19,
     "metadata": {},
     "output_type": "execute_result"
    }
   ],
   "source": [
    "pd_df_train_clean_no_outliers.apply(lambda x: x.isna().sum(), axis=0)"
   ]
  },
  {
   "cell_type": "code",
   "execution_count": 20,
   "id": "218f487a-fe6f-4e00-9486-c04b9e94f7b3",
   "metadata": {},
   "outputs": [],
   "source": [
    "pd_df_train_clean_no_outliers_filled = tpd.fill_nas_from_other_customer_records(pd_df_train_clean_no_outliers)"
   ]
  },
  {
   "cell_type": "code",
   "execution_count": 21,
   "id": "2670408b-9f74-47d0-862d-2c57275a5e2b",
   "metadata": {},
   "outputs": [
    {
     "data": {
      "text/plain": [
       "ID                              0\n",
       "Customer_ID                     0\n",
       "Month                           0\n",
       "Name                            0\n",
       "Age                             0\n",
       "SSN                             0\n",
       "Occupation                      0\n",
       "Annual_Income                   0\n",
       "Monthly_Inhand_Salary           0\n",
       "Num_Bank_Accounts               0\n",
       "Num_Credit_Card              2271\n",
       "Interest_Rate                2034\n",
       "Num_of_Loan                  4348\n",
       "Type_of_Loan                    0\n",
       "Delay_from_due_date             0\n",
       "Num_of_Delayed_Payment      28643\n",
       "Changed_Credit_Limit         2091\n",
       "Num_Credit_Inquiries        17774\n",
       "Credit_Mix                      0\n",
       "Outstanding_Debt                0\n",
       "Credit_Utilization_Ratio        0\n",
       "Credit_History_Age              0\n",
       "Payment_of_Min_Amount       12007\n",
       "Total_EMI_per_month          5404\n",
       "Amount_invested_monthly      8784\n",
       "Payment_Behaviour               0\n",
       "Monthly_Balance              1209\n",
       "Credit_Score                    0\n",
       "dtype: int64"
      ]
     },
     "execution_count": 21,
     "metadata": {},
     "output_type": "execute_result"
    }
   ],
   "source": [
    "pd_df_train_clean_no_outliers_filled.apply(lambda x: x.isna().sum(), axis=0)"
   ]
  },
  {
   "cell_type": "markdown",
   "id": "7c968488-820e-415d-a6e5-77cd8633dd87",
   "metadata": {},
   "source": [
    "# Polars"
   ]
  },
  {
   "cell_type": "markdown",
   "id": "cb5741cc-e6a0-4382-b5e2-3d87aeb61690",
   "metadata": {},
   "source": [
    "## Read data"
   ]
  },
  {
   "cell_type": "code",
   "execution_count": 22,
   "id": "fb185876-c11d-4ff6-9532-0cd8b61c8f8e",
   "metadata": {},
   "outputs": [
    {
     "data": {
      "text/plain": [
       "polars.config.Config"
      ]
     },
     "execution_count": 22,
     "metadata": {},
     "output_type": "execute_result"
    }
   ],
   "source": [
    "pl.Config.set_tbl_rows(100)"
   ]
  },
  {
   "cell_type": "code",
   "execution_count": 23,
   "id": "2c4e45819f588179",
   "metadata": {
    "ExecuteTime": {
     "end_time": "2023-11-05T17:39:54.503699Z",
     "start_time": "2023-11-05T17:39:54.464859Z"
    },
    "collapsed": false,
    "jupyter": {
     "outputs_hidden": false
    }
   },
   "outputs": [
    {
     "ename": "ComputeError",
     "evalue": "Could not parse `__-333333333333333333333333333__` as dtype `f64` at column 'Monthly_Balance' (column number 27).\nThe current offset in the file is 12007648 bytes.\n\nYou might want to try:\n- increasing `infer_schema_length` (e.g. `infer_schema_length=10000`),\n- specifying correct dtype with the `dtypes` argument\n- setting `ignore_errors` to `True`,\n- adding `__-333333333333333333333333333__` to the `null_values` list.",
     "output_type": "error",
     "traceback": [
      "\u001b[0;31m---------------------------------------------------------------------------\u001b[0m",
      "\u001b[0;31mComputeError\u001b[0m                              Traceback (most recent call last)",
      "\u001b[0;32m/var/folders/rr/2my7n2l5511dqbvltxz0qyzh0000gq/T/ipykernel_90770/1251475168.py\u001b[0m in \u001b[0;36m?\u001b[0;34m()\u001b[0m\n\u001b[0;32m----> 1\u001b[0;31m \u001b[0mpl_df_train\u001b[0m \u001b[0;34m=\u001b[0m \u001b[0mpl\u001b[0m\u001b[0;34m.\u001b[0m\u001b[0mread_csv\u001b[0m\u001b[0;34m(\u001b[0m\u001b[0;34m\"train.csv\"\u001b[0m\u001b[0;34m)\u001b[0m\u001b[0;34m\u001b[0m\u001b[0;34m\u001b[0m\u001b[0m\n\u001b[0m",
      "\u001b[0;32m~/Documents/src/medium-pandas-vs-polars/venv/lib/python3.11/site-packages/polars/io/csv/functions.py\u001b[0m in \u001b[0;36m?\u001b[0;34m(source, has_header, columns, new_columns, separator, comment_char, quote_char, skip_rows, dtypes, schema, null_values, missing_utf8_is_empty_string, ignore_errors, try_parse_dates, n_threads, infer_schema_length, batch_size, n_rows, encoding, low_memory, rechunk, use_pyarrow, storage_options, skip_rows_after_header, row_count_name, row_count_offset, sample_size, eol_char, raise_if_empty, truncate_ragged_lines)\u001b[0m\n\u001b[1;32m    362\u001b[0m         \u001b[0muse_pyarrow\u001b[0m\u001b[0;34m=\u001b[0m\u001b[0;32mFalse\u001b[0m\u001b[0;34m,\u001b[0m\u001b[0;34m\u001b[0m\u001b[0;34m\u001b[0m\u001b[0m\n\u001b[1;32m    363\u001b[0m         \u001b[0mraise_if_empty\u001b[0m\u001b[0;34m=\u001b[0m\u001b[0mraise_if_empty\u001b[0m\u001b[0;34m,\u001b[0m\u001b[0;34m\u001b[0m\u001b[0;34m\u001b[0m\u001b[0m\n\u001b[1;32m    364\u001b[0m         \u001b[0;34m**\u001b[0m\u001b[0mstorage_options\u001b[0m\u001b[0;34m,\u001b[0m\u001b[0;34m\u001b[0m\u001b[0;34m\u001b[0m\u001b[0m\n\u001b[1;32m    365\u001b[0m     ) as data:\n\u001b[0;32m--> 366\u001b[0;31m         df = pl.DataFrame._read_csv(\n\u001b[0m\u001b[1;32m    367\u001b[0m             \u001b[0mdata\u001b[0m\u001b[0;34m,\u001b[0m\u001b[0;34m\u001b[0m\u001b[0;34m\u001b[0m\u001b[0m\n\u001b[1;32m    368\u001b[0m             \u001b[0mhas_header\u001b[0m\u001b[0;34m=\u001b[0m\u001b[0mhas_header\u001b[0m\u001b[0;34m,\u001b[0m\u001b[0;34m\u001b[0m\u001b[0;34m\u001b[0m\u001b[0m\n\u001b[1;32m    369\u001b[0m             \u001b[0mcolumns\u001b[0m\u001b[0;34m=\u001b[0m\u001b[0mcolumns\u001b[0m \u001b[0;32mif\u001b[0m \u001b[0mcolumns\u001b[0m \u001b[0;32melse\u001b[0m \u001b[0mprojection\u001b[0m\u001b[0;34m,\u001b[0m\u001b[0;34m\u001b[0m\u001b[0;34m\u001b[0m\u001b[0m\n",
      "\u001b[0;32m~/Documents/src/medium-pandas-vs-polars/venv/lib/python3.11/site-packages/polars/dataframe/frame.py\u001b[0m in \u001b[0;36m?\u001b[0;34m(cls, source, has_header, columns, separator, comment_char, quote_char, skip_rows, dtypes, schema, null_values, missing_utf8_is_empty_string, ignore_errors, try_parse_dates, n_threads, infer_schema_length, batch_size, n_rows, encoding, low_memory, rechunk, skip_rows_after_header, row_count_name, row_count_offset, sample_size, eol_char, raise_if_empty, truncate_ragged_lines)\u001b[0m\n\u001b[1;32m    768\u001b[0m                 )\n\u001b[1;32m    769\u001b[0m \u001b[0;34m\u001b[0m\u001b[0m\n\u001b[1;32m    770\u001b[0m         \u001b[0mprojection\u001b[0m\u001b[0;34m,\u001b[0m \u001b[0mcolumns\u001b[0m \u001b[0;34m=\u001b[0m \u001b[0mhandle_projection_columns\u001b[0m\u001b[0;34m(\u001b[0m\u001b[0mcolumns\u001b[0m\u001b[0;34m)\u001b[0m\u001b[0;34m\u001b[0m\u001b[0;34m\u001b[0m\u001b[0m\n\u001b[1;32m    771\u001b[0m \u001b[0;34m\u001b[0m\u001b[0m\n\u001b[0;32m--> 772\u001b[0;31m         self._df = PyDataFrame.read_csv(\n\u001b[0m\u001b[1;32m    773\u001b[0m             \u001b[0msource\u001b[0m\u001b[0;34m,\u001b[0m\u001b[0;34m\u001b[0m\u001b[0;34m\u001b[0m\u001b[0m\n\u001b[1;32m    774\u001b[0m             \u001b[0minfer_schema_length\u001b[0m\u001b[0;34m,\u001b[0m\u001b[0;34m\u001b[0m\u001b[0;34m\u001b[0m\u001b[0m\n\u001b[1;32m    775\u001b[0m             \u001b[0mbatch_size\u001b[0m\u001b[0;34m,\u001b[0m\u001b[0;34m\u001b[0m\u001b[0;34m\u001b[0m\u001b[0m\n",
      "\u001b[0;31mComputeError\u001b[0m: Could not parse `__-333333333333333333333333333__` as dtype `f64` at column 'Monthly_Balance' (column number 27).\nThe current offset in the file is 12007648 bytes.\n\nYou might want to try:\n- increasing `infer_schema_length` (e.g. `infer_schema_length=10000`),\n- specifying correct dtype with the `dtypes` argument\n- setting `ignore_errors` to `True`,\n- adding `__-333333333333333333333333333__` to the `null_values` list."
     ]
    }
   ],
   "source": [
    "pl_df_train = pl.read_csv(\"train.csv\")"
   ]
  },
  {
   "cell_type": "code",
   "execution_count": 24,
   "id": "a6583f6e-3658-4379-8bed-b8aa8b6c7b8d",
   "metadata": {
    "ExecuteTime": {
     "end_time": "2023-11-05T17:39:56.070064Z",
     "start_time": "2023-11-05T17:39:56.014543Z"
    }
   },
   "outputs": [],
   "source": [
    "pl_df_train = pl.read_csv(\"train.csv\", dtypes={\"Monthly_Balance\": pl.Utf8})"
   ]
  },
  {
   "cell_type": "markdown",
   "id": "56905cb3-94dc-42a3-ba8c-fe65124ec1b0",
   "metadata": {},
   "source": [
    "## Check validity"
   ]
  },
  {
   "cell_type": "code",
   "execution_count": 25,
   "id": "aa5c71d6-912c-46e9-9994-a59ba8e4fc8a",
   "metadata": {},
   "outputs": [
    {
     "data": {
      "text/plain": [
       "[Utf8,\n",
       " Utf8,\n",
       " Utf8,\n",
       " Utf8,\n",
       " Utf8,\n",
       " Utf8,\n",
       " Utf8,\n",
       " Utf8,\n",
       " Float64,\n",
       " Int64,\n",
       " Int64,\n",
       " Int64,\n",
       " Utf8,\n",
       " Utf8,\n",
       " Int64,\n",
       " Utf8,\n",
       " Utf8,\n",
       " Float64,\n",
       " Utf8,\n",
       " Utf8,\n",
       " Float64,\n",
       " Utf8,\n",
       " Utf8,\n",
       " Float64,\n",
       " Utf8,\n",
       " Utf8,\n",
       " Utf8,\n",
       " Utf8]"
      ]
     },
     "execution_count": 25,
     "metadata": {},
     "output_type": "execute_result"
    }
   ],
   "source": [
    "pl_df_train.dtypes"
   ]
  },
  {
   "cell_type": "code",
   "execution_count": 26,
   "id": "d5bcad3b-d699-4891-8693-cfba5a2c92a3",
   "metadata": {},
   "outputs": [
    {
     "data": {
      "text/plain": [
       "OrderedDict([('ID', Utf8),\n",
       "             ('Customer_ID', Utf8),\n",
       "             ('Month', Utf8),\n",
       "             ('Name', Utf8),\n",
       "             ('Age', Utf8),\n",
       "             ('SSN', Utf8),\n",
       "             ('Occupation', Utf8),\n",
       "             ('Annual_Income', Utf8),\n",
       "             ('Monthly_Inhand_Salary', Float64),\n",
       "             ('Num_Bank_Accounts', Int64),\n",
       "             ('Num_Credit_Card', Int64),\n",
       "             ('Interest_Rate', Int64),\n",
       "             ('Num_of_Loan', Utf8),\n",
       "             ('Type_of_Loan', Utf8),\n",
       "             ('Delay_from_due_date', Int64),\n",
       "             ('Num_of_Delayed_Payment', Utf8),\n",
       "             ('Changed_Credit_Limit', Utf8),\n",
       "             ('Num_Credit_Inquiries', Float64),\n",
       "             ('Credit_Mix', Utf8),\n",
       "             ('Outstanding_Debt', Utf8),\n",
       "             ('Credit_Utilization_Ratio', Float64),\n",
       "             ('Credit_History_Age', Utf8),\n",
       "             ('Payment_of_Min_Amount', Utf8),\n",
       "             ('Total_EMI_per_month', Float64),\n",
       "             ('Amount_invested_monthly', Utf8),\n",
       "             ('Payment_Behaviour', Utf8),\n",
       "             ('Monthly_Balance', Utf8),\n",
       "             ('Credit_Score', Utf8)])"
      ]
     },
     "execution_count": 26,
     "metadata": {},
     "output_type": "execute_result"
    }
   ],
   "source": [
    "pl_df_train.schema"
   ]
  },
  {
   "cell_type": "markdown",
   "id": "3a7b1bb9-46bc-49e1-b255-5d558aafa52a",
   "metadata": {},
   "source": [
    "### Type_of_Loan"
   ]
  },
  {
   "cell_type": "code",
   "execution_count": 27,
   "id": "b7a10eaf-d743-4496-82a3-4906d3cb91e7",
   "metadata": {},
   "outputs": [
    {
     "data": {
      "text/plain": [
       "Counter({'Payday Loan': 40568,\n",
       "         'Credit-Builder Loan': 40440,\n",
       "         'Not Specified': 39616,\n",
       "         'Home Equity Loan': 39104,\n",
       "         'Student Loan': 38968,\n",
       "         'Mortgage Loan': 38936,\n",
       "         'Personal Loan': 38888,\n",
       "         'Debt Consolidation Loan': 38776,\n",
       "         'Auto Loan': 37992})"
      ]
     },
     "execution_count": 27,
     "metadata": {},
     "output_type": "execute_result"
    }
   ],
   "source": [
    "split = (\n",
    "    pl_df_train[\"Type_of_Loan\"]\n",
    "    .drop_nulls()\n",
    "    .map_elements(lambda x: re.split(r\", and |, \", x))\n",
    ")\n",
    "Counter([x for l in split.to_list() for x in l])"
   ]
  },
  {
   "cell_type": "markdown",
   "id": "8f6426c2-0ede-4b74-95f1-3d5247cb5c02",
   "metadata": {},
   "source": [
    "## Clean"
   ]
  },
  {
   "cell_type": "markdown",
   "id": "9c0d2d15-a2ac-4c73-a7b9-95de2c395c93",
   "metadata": {},
   "source": [
    "### Replace with NaNs"
   ]
  },
  {
   "cell_type": "code",
   "execution_count": 28,
   "id": "6fe12e06-387e-49d5-9f56-2cb27464e958",
   "metadata": {},
   "outputs": [],
   "source": [
    "pl_df_train_clean = tpl.cleanup_and_cast(pl_df_train)"
   ]
  },
  {
   "cell_type": "markdown",
   "id": "4851dddc-2067-48ae-ade3-cbcd8a4ca9fb",
   "metadata": {},
   "source": [
    "### Clean up outliers"
   ]
  },
  {
   "cell_type": "code",
   "execution_count": 29,
   "id": "db20eb60-ba34-430b-ab64-23cf2d6ffe64",
   "metadata": {},
   "outputs": [],
   "source": [
    "pl_df_train_clean_no_outliers = tpl.replace_outliers(pl_df_train_clean)"
   ]
  },
  {
   "cell_type": "code",
   "execution_count": 30,
   "id": "eb023b59-1647-4bfb-88d9-edb99fd0a6c4",
   "metadata": {},
   "outputs": [
    {
     "name": "stdout",
     "output_type": "stream",
     "text": [
      "Age\n",
      "shape: (9, 2)\n",
      "┌────────────┬───────────┐\n",
      "│ statistic  ┆ value     │\n",
      "│ ---        ┆ ---       │\n",
      "│ str        ┆ f64       │\n",
      "╞════════════╪═══════════╡\n",
      "│ count      ┆ 100000.0  │\n",
      "│ null_count ┆ 2781.0    │\n",
      "│ mean       ┆ 33.320009 │\n",
      "│ std        ┆ 10.769558 │\n",
      "│ min        ┆ 14.0      │\n",
      "│ 25%        ┆ 24.0      │\n",
      "│ 50%        ┆ 33.0      │\n",
      "│ 75%        ┆ 42.0      │\n",
      "│ max        ┆ 56.0      │\n",
      "└────────────┴───────────┘\n",
      "\n",
      "Annual_Income\n",
      "shape: (9, 2)\n",
      "┌────────────┬──────────────┐\n",
      "│ statistic  ┆ value        │\n",
      "│ ---        ┆ ---          │\n",
      "│ str        ┆ f64          │\n",
      "╞════════════╪══════════════╡\n",
      "│ count      ┆ 100000.0     │\n",
      "│ null_count ┆ 999.0        │\n",
      "│ mean       ┆ 50497.576053 │\n",
      "│ std        ┆ 38296.622971 │\n",
      "│ min        ┆ 7005.93      │\n",
      "│ 25%        ┆ 19344.27     │\n",
      "│ 50%        ┆ 36993.94     │\n",
      "│ 75%        ┆ 71676.0      │\n",
      "│ max        ┆ 179987.28    │\n",
      "└────────────┴──────────────┘\n",
      "\n",
      "Num_Bank_Accounts\n",
      "shape: (9, 2)\n",
      "┌────────────┬──────────┐\n",
      "│ statistic  ┆ value    │\n",
      "│ ---        ┆ ---      │\n",
      "│ str        ┆ f64      │\n",
      "╞════════════╪══════════╡\n",
      "│ count      ┆ 100000.0 │\n",
      "│ null_count ┆ 1315.0   │\n",
      "│ mean       ┆ 5.367624 │\n",
      "│ std        ┆ 2.593839 │\n",
      "│ min        ┆ -1.0     │\n",
      "│ 25%        ┆ 3.0      │\n",
      "│ 50%        ┆ 5.0      │\n",
      "│ 75%        ┆ 7.0      │\n",
      "│ max        ┆ 11.0     │\n",
      "└────────────┴──────────┘\n",
      "\n",
      "Num_Credit_Card\n",
      "shape: (9, 2)\n",
      "┌────────────┬──────────┐\n",
      "│ statistic  ┆ value    │\n",
      "│ ---        ┆ ---      │\n",
      "│ str        ┆ f64      │\n",
      "╞════════════╪══════════╡\n",
      "│ count      ┆ 100000.0 │\n",
      "│ null_count ┆ 2271.0   │\n",
      "│ mean       ┆ 5.533322 │\n",
      "│ std        ┆ 2.067703 │\n",
      "│ min        ┆ 0.0      │\n",
      "│ 25%        ┆ 4.0      │\n",
      "│ 50%        ┆ 5.0      │\n",
      "│ 75%        ┆ 7.0      │\n",
      "│ max        ┆ 11.0     │\n",
      "└────────────┴──────────┘\n",
      "\n",
      "Interest_Rate\n",
      "shape: (9, 2)\n",
      "┌────────────┬───────────┐\n",
      "│ statistic  ┆ value     │\n",
      "│ ---        ┆ ---       │\n",
      "│ str        ┆ f64       │\n",
      "╞════════════╪═══════════╡\n",
      "│ count      ┆ 100000.0  │\n",
      "│ null_count ┆ 2034.0    │\n",
      "│ mean       ┆ 14.531603 │\n",
      "│ std        ┆ 8.739748  │\n",
      "│ min        ┆ 1.0       │\n",
      "│ 25%        ┆ 7.0       │\n",
      "│ 50%        ┆ 13.0      │\n",
      "│ 75%        ┆ 20.0      │\n",
      "│ max        ┆ 34.0      │\n",
      "└────────────┴───────────┘\n",
      "\n",
      "Num_of_Loan\n",
      "shape: (9, 2)\n",
      "┌────────────┬──────────┐\n",
      "│ statistic  ┆ value    │\n",
      "│ ---        ┆ ---      │\n",
      "│ str        ┆ f64      │\n",
      "╞════════════╪══════════╡\n",
      "│ count      ┆ 100000.0 │\n",
      "│ null_count ┆ 4348.0   │\n",
      "│ mean       ┆ 3.533758 │\n",
      "│ std        ┆ 2.447308 │\n",
      "│ min        ┆ 0.0      │\n",
      "│ 25%        ┆ 2.0      │\n",
      "│ 50%        ┆ 3.0      │\n",
      "│ 75%        ┆ 5.0      │\n",
      "│ max        ┆ 9.0      │\n",
      "└────────────┴──────────┘\n",
      "\n",
      "Num_of_Delayed_Payment\n",
      "shape: (9, 2)\n",
      "┌────────────┬───────────┐\n",
      "│ statistic  ┆ value     │\n",
      "│ ---        ┆ ---       │\n",
      "│ str        ┆ f64       │\n",
      "╞════════════╪═══════════╡\n",
      "│ count      ┆ 100000.0  │\n",
      "│ null_count ┆ 28643.0   │\n",
      "│ mean       ┆ 13.310565 │\n",
      "│ std        ┆ 6.193767  │\n",
      "│ min        ┆ -2.0      │\n",
      "│ 25%        ┆ 9.0       │\n",
      "│ 50%        ┆ 14.0      │\n",
      "│ 75%        ┆ 18.0      │\n",
      "│ max        ┆ 27.0      │\n",
      "└────────────┴───────────┘\n",
      "\n",
      "Num_Credit_Inquiries\n",
      "shape: (9, 2)\n",
      "┌────────────┬──────────┐\n",
      "│ statistic  ┆ value    │\n",
      "│ ---        ┆ ---      │\n",
      "│ str        ┆ f64      │\n",
      "╞════════════╪══════════╡\n",
      "│ count      ┆ 100000.0 │\n",
      "│ null_count ┆ 17774.0  │\n",
      "│ mean       ┆ 5.620485 │\n",
      "│ std        ┆ 3.794026 │\n",
      "│ min        ┆ 0.0      │\n",
      "│ 25%        ┆ 3.0      │\n",
      "│ 50%        ┆ 5.0      │\n",
      "│ 75%        ┆ 8.0      │\n",
      "│ max        ┆ 17.0     │\n",
      "└────────────┴──────────┘\n",
      "\n",
      "Total_EMI_per_month\n",
      "shape: (9, 2)\n",
      "┌────────────┬─────────────┐\n",
      "│ statistic  ┆ value       │\n",
      "│ ---        ┆ ---         │\n",
      "│ str        ┆ f64         │\n",
      "╞════════════╪═════════════╡\n",
      "│ count      ┆ 100000.0    │\n",
      "│ null_count ┆ 5404.0      │\n",
      "│ mean       ┆ 103.459203  │\n",
      "│ std        ┆ 119.519725  │\n",
      "│ min        ┆ 0.0         │\n",
      "│ 25%        ┆ 28.882213   │\n",
      "│ 50%        ┆ 65.556838   │\n",
      "│ 75%        ┆ 143.856735  │\n",
      "│ max        ┆ 1779.103254 │\n",
      "└────────────┴─────────────┘\n",
      "\n"
     ]
    }
   ],
   "source": [
    "for var in VARS_WITH_OUTLIERS_TOLERANCES.keys():\n",
    "    print(var)\n",
    "    desc = pl_df_train_clean_no_outliers[var].describe()\n",
    "    print(desc)\n",
    "    print(\"\")"
   ]
  },
  {
   "cell_type": "markdown",
   "id": "c7a55a7a-8f11-4fe5-a6c8-96dd0b3353ee",
   "metadata": {},
   "source": [
    "### Fill NaNs"
   ]
  },
  {
   "cell_type": "code",
   "execution_count": 31,
   "id": "05b305f6-a941-4422-8b31-4f0b45839d2d",
   "metadata": {},
   "outputs": [
    {
     "data": {
      "text/html": [
       "<div><style>\n",
       ".dataframe > thead > tr > th,\n",
       ".dataframe > tbody > tr > td {\n",
       "  text-align: right;\n",
       "  white-space: pre-wrap;\n",
       "}\n",
       "</style>\n",
       "<small>shape: (28, 2)</small><table border=\"1\" class=\"dataframe\"><thead><tr><th>variable</th><th>value</th></tr><tr><td>str</td><td>u32</td></tr></thead><tbody><tr><td>&quot;ID&quot;</td><td>0</td></tr><tr><td>&quot;Customer_ID&quot;</td><td>0</td></tr><tr><td>&quot;Month&quot;</td><td>0</td></tr><tr><td>&quot;Name&quot;</td><td>9985</td></tr><tr><td>&quot;Age&quot;</td><td>2781</td></tr><tr><td>&quot;SSN&quot;</td><td>0</td></tr><tr><td>&quot;Occupation&quot;</td><td>7062</td></tr><tr><td>&quot;Annual_Income&quot;</td><td>999</td></tr><tr><td>&quot;Monthly_Inhand…</td><td>15002</td></tr><tr><td>&quot;Num_Bank_Accou…</td><td>1315</td></tr><tr><td>&quot;Num_Credit_Car…</td><td>2271</td></tr><tr><td>&quot;Interest_Rate&quot;</td><td>2034</td></tr><tr><td>&quot;Num_of_Loan&quot;</td><td>4348</td></tr><tr><td>&quot;Type_of_Loan&quot;</td><td>0</td></tr><tr><td>&quot;Delay_from_due…</td><td>0</td></tr><tr><td>&quot;Num_of_Delayed…</td><td>28643</td></tr><tr><td>&quot;Changed_Credit…</td><td>2091</td></tr><tr><td>&quot;Num_Credit_Inq…</td><td>17774</td></tr><tr><td>&quot;Credit_Mix&quot;</td><td>20195</td></tr><tr><td>&quot;Outstanding_De…</td><td>0</td></tr><tr><td>&quot;Credit_Utiliza…</td><td>0</td></tr><tr><td>&quot;Credit_History…</td><td>9030</td></tr><tr><td>&quot;Payment_of_Min…</td><td>12007</td></tr><tr><td>&quot;Total_EMI_per_…</td><td>5404</td></tr><tr><td>&quot;Amount_investe…</td><td>8784</td></tr><tr><td>&quot;Payment_Behavi…</td><td>0</td></tr><tr><td>&quot;Monthly_Balanc…</td><td>1209</td></tr><tr><td>&quot;Credit_Score&quot;</td><td>0</td></tr></tbody></table></div>"
      ],
      "text/plain": [
       "shape: (28, 2)\n",
       "┌──────────────────────────┬───────┐\n",
       "│ variable                 ┆ value │\n",
       "│ ---                      ┆ ---   │\n",
       "│ str                      ┆ u32   │\n",
       "╞══════════════════════════╪═══════╡\n",
       "│ ID                       ┆ 0     │\n",
       "│ Customer_ID              ┆ 0     │\n",
       "│ Month                    ┆ 0     │\n",
       "│ Name                     ┆ 9985  │\n",
       "│ Age                      ┆ 2781  │\n",
       "│ SSN                      ┆ 0     │\n",
       "│ Occupation               ┆ 7062  │\n",
       "│ Annual_Income            ┆ 999   │\n",
       "│ Monthly_Inhand_Salary    ┆ 15002 │\n",
       "│ Num_Bank_Accounts        ┆ 1315  │\n",
       "│ Num_Credit_Card          ┆ 2271  │\n",
       "│ Interest_Rate            ┆ 2034  │\n",
       "│ Num_of_Loan              ┆ 4348  │\n",
       "│ Type_of_Loan             ┆ 0     │\n",
       "│ Delay_from_due_date      ┆ 0     │\n",
       "│ Num_of_Delayed_Payment   ┆ 28643 │\n",
       "│ Changed_Credit_Limit     ┆ 2091  │\n",
       "│ Num_Credit_Inquiries     ┆ 17774 │\n",
       "│ Credit_Mix               ┆ 20195 │\n",
       "│ Outstanding_Debt         ┆ 0     │\n",
       "│ Credit_Utilization_Ratio ┆ 0     │\n",
       "│ Credit_History_Age       ┆ 9030  │\n",
       "│ Payment_of_Min_Amount    ┆ 12007 │\n",
       "│ Total_EMI_per_month      ┆ 5404  │\n",
       "│ Amount_invested_monthly  ┆ 8784  │\n",
       "│ Payment_Behaviour        ┆ 0     │\n",
       "│ Monthly_Balance          ┆ 1209  │\n",
       "│ Credit_Score             ┆ 0     │\n",
       "└──────────────────────────┴───────┘"
      ]
     },
     "execution_count": 31,
     "metadata": {},
     "output_type": "execute_result"
    }
   ],
   "source": [
    "pl_df_train_clean_no_outliers.select(pl.all().is_null().sum()).melt()"
   ]
  },
  {
   "cell_type": "code",
   "execution_count": 32,
   "id": "90c0a073-291c-4ccf-907a-f04816e9a752",
   "metadata": {},
   "outputs": [],
   "source": [
    "pl_df_train_clean_no_outliers_filled = tpl.fill_nas_from_other_customer_records(pl_df_train_clean_no_outliers)"
   ]
  },
  {
   "cell_type": "code",
   "execution_count": 33,
   "id": "26bfb14b-184e-4869-825b-6d79ed431eff",
   "metadata": {},
   "outputs": [
    {
     "data": {
      "text/html": [
       "<div><style>\n",
       ".dataframe > thead > tr > th,\n",
       ".dataframe > tbody > tr > td {\n",
       "  text-align: right;\n",
       "  white-space: pre-wrap;\n",
       "}\n",
       "</style>\n",
       "<small>shape: (28, 2)</small><table border=\"1\" class=\"dataframe\"><thead><tr><th>variable</th><th>value</th></tr><tr><td>str</td><td>u32</td></tr></thead><tbody><tr><td>&quot;ID&quot;</td><td>0</td></tr><tr><td>&quot;Customer_ID&quot;</td><td>0</td></tr><tr><td>&quot;Month&quot;</td><td>0</td></tr><tr><td>&quot;Name&quot;</td><td>0</td></tr><tr><td>&quot;Age&quot;</td><td>0</td></tr><tr><td>&quot;SSN&quot;</td><td>0</td></tr><tr><td>&quot;Occupation&quot;</td><td>0</td></tr><tr><td>&quot;Annual_Income&quot;</td><td>0</td></tr><tr><td>&quot;Monthly_Inhand…</td><td>0</td></tr><tr><td>&quot;Num_Bank_Accou…</td><td>0</td></tr><tr><td>&quot;Num_Credit_Car…</td><td>2271</td></tr><tr><td>&quot;Interest_Rate&quot;</td><td>2034</td></tr><tr><td>&quot;Num_of_Loan&quot;</td><td>4348</td></tr><tr><td>&quot;Type_of_Loan&quot;</td><td>0</td></tr><tr><td>&quot;Delay_from_due…</td><td>0</td></tr><tr><td>&quot;Num_of_Delayed…</td><td>28643</td></tr><tr><td>&quot;Changed_Credit…</td><td>2091</td></tr><tr><td>&quot;Num_Credit_Inq…</td><td>17774</td></tr><tr><td>&quot;Credit_Mix&quot;</td><td>0</td></tr><tr><td>&quot;Outstanding_De…</td><td>0</td></tr><tr><td>&quot;Credit_Utiliza…</td><td>0</td></tr><tr><td>&quot;Credit_History…</td><td>0</td></tr><tr><td>&quot;Payment_of_Min…</td><td>12007</td></tr><tr><td>&quot;Total_EMI_per_…</td><td>5404</td></tr><tr><td>&quot;Amount_investe…</td><td>8784</td></tr><tr><td>&quot;Payment_Behavi…</td><td>0</td></tr><tr><td>&quot;Monthly_Balanc…</td><td>1209</td></tr><tr><td>&quot;Credit_Score&quot;</td><td>0</td></tr></tbody></table></div>"
      ],
      "text/plain": [
       "shape: (28, 2)\n",
       "┌──────────────────────────┬───────┐\n",
       "│ variable                 ┆ value │\n",
       "│ ---                      ┆ ---   │\n",
       "│ str                      ┆ u32   │\n",
       "╞══════════════════════════╪═══════╡\n",
       "│ ID                       ┆ 0     │\n",
       "│ Customer_ID              ┆ 0     │\n",
       "│ Month                    ┆ 0     │\n",
       "│ Name                     ┆ 0     │\n",
       "│ Age                      ┆ 0     │\n",
       "│ SSN                      ┆ 0     │\n",
       "│ Occupation               ┆ 0     │\n",
       "│ Annual_Income            ┆ 0     │\n",
       "│ Monthly_Inhand_Salary    ┆ 0     │\n",
       "│ Num_Bank_Accounts        ┆ 0     │\n",
       "│ Num_Credit_Card          ┆ 2271  │\n",
       "│ Interest_Rate            ┆ 2034  │\n",
       "│ Num_of_Loan              ┆ 4348  │\n",
       "│ Type_of_Loan             ┆ 0     │\n",
       "│ Delay_from_due_date      ┆ 0     │\n",
       "│ Num_of_Delayed_Payment   ┆ 28643 │\n",
       "│ Changed_Credit_Limit     ┆ 2091  │\n",
       "│ Num_Credit_Inquiries     ┆ 17774 │\n",
       "│ Credit_Mix               ┆ 0     │\n",
       "│ Outstanding_Debt         ┆ 0     │\n",
       "│ Credit_Utilization_Ratio ┆ 0     │\n",
       "│ Credit_History_Age       ┆ 0     │\n",
       "│ Payment_of_Min_Amount    ┆ 12007 │\n",
       "│ Total_EMI_per_month      ┆ 5404  │\n",
       "│ Amount_invested_monthly  ┆ 8784  │\n",
       "│ Payment_Behaviour        ┆ 0     │\n",
       "│ Monthly_Balance          ┆ 1209  │\n",
       "│ Credit_Score             ┆ 0     │\n",
       "└──────────────────────────┴───────┘"
      ]
     },
     "execution_count": 33,
     "metadata": {},
     "output_type": "execute_result"
    }
   ],
   "source": [
    "pl_df_train_clean_no_outliers_filled.select(pl.all().is_null().sum()).melt()"
   ]
  }
 ],
 "metadata": {
  "kernelspec": {
   "display_name": "Python 3 (ipykernel)",
   "language": "python",
   "name": "python3"
  },
  "language_info": {
   "codemirror_mode": {
    "name": "ipython",
    "version": 3
   },
   "file_extension": ".py",
   "mimetype": "text/x-python",
   "name": "python",
   "nbconvert_exporter": "python",
   "pygments_lexer": "ipython3",
   "version": "3.11.4"
  }
 },
 "nbformat": 4,
 "nbformat_minor": 5
}
